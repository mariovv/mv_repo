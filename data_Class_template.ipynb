{
 "cells": [
  {
   "cell_type": "markdown",
   "metadata": {
    "Collapsed": "false"
   },
   "source": [
    "# In-App Format Test Results\n",
    "\n",
    "https://test.financialcrossing.net/jira/browse/AE-2533"
   ]
  },
  {
   "cell_type": "code",
   "execution_count": 13,
   "metadata": {
    "Collapsed": "false"
   },
   "outputs": [],
   "source": [
    "from dataclasses import dataclass\n",
    "\n",
    "\n",
    "@dataclass\n",
    "class Experiment:\n",
    "    Campaign_name: str\n",
    "    Camp_description: str\n",
    "    Campaign_API_Identifier: str\n",
    "    control_id: str\n",
    "    variant_id1_name: str\n",
    "    variant_id1: str\n",
    "    variant_id2_name: str\n",
    "    variant_id2: str\n",
    "    variant_id3_name: str\n",
    "    variant_id3: str\n",
    "    variant_id4_name: str\n",
    "    variant_id4: str\n",
    "    send_date: str\n",
    "        \n",
    "Activate_RU = Experiment(\n",
    "    \"Activate_RU\",\n",
    "    \"Returning users who've funded, but haven't enrolled in CBO\",\n",
    "    \"93bd3ed6-b0e1-44bf-9ca4-86dd4879c746\",\n",
    "    \"cb580324-bfb7-4836-ba5c-4161081cebec\",\n",
    "    \"1_modal\",\n",
    "    \"415bb60c-97be-4afa-bccf-410f609f6d92\",\n",
    "    \"2_fullscreen\",\n",
    "    \"c0c88bae-dc5b-4df4-867e-f4656b759937\",\n",
    "    '',\n",
    "    '',\n",
    "    '',\n",
    "    '',\n",
    "    '2020-09-11'\n",
    ")\n",
    "        \n",
    "Activate_NU = Experiment(\n",
    "    \"Activate_NU\",\n",
    "    \"New users who've funded, but haven't enrolled in CBO \",\n",
    "    \"cf7ab4f6-64a1-4a30-9658-a865dabf4162\",\n",
    "    \"9ee47765-987f-4f08-911e-61422670f127\",\n",
    "    \"1_modal\",\n",
    "    \"921b508b-241c-4eeb-b725-24bb5691502d\",\n",
    "    \"2_fullscreen\",\n",
    "    \"84be47f6-727d-418b-aeb5-abfd526318f9\",\n",
    "    '',\n",
    "    '',\n",
    "    '',\n",
    "    '',\n",
    "    '2020-09-11'\n",
    ")\n",
    "        \n",
    "Fund_RU = Experiment(\n",
    "    \"Fund_RU\",\n",
    "    \"Returning Users who have enrolled, but haven't funded yet\",\n",
    "    \"da4f0e37-a38c-45f5-9006-831c895adb8c\",\n",
    "    \"bf3f6624-02f6-449d-a19f-f9e6ea2192c1\",\n",
    "    \"1a_slide-bot\",\n",
    "    \"448f2a13-4750-455d-87ed-1d8ce2601c69\",\n",
    "    \"1b_slide-top\",\n",
    "    \"01e0602e-aa46-4a26-8a72-8bfb5d370171\",\n",
    "    \"2_modal\",\n",
    "    \"df3a5eb6-2388-45d9-bd70-68b7e82883a9\",\n",
    "    \"3_fullscreen\",\n",
    "    \"6331f698-0ca3-41f8-89eb-7d71c68115e4\",\n",
    "    '2020-09-11'\n",
    ")\n",
    "\n",
    "Fund_NU = Experiment(\n",
    "    \"Fund_NU\",\n",
    "    \"New Users who have enrolled, but haven't funded yet\",\n",
    "    \"b09a23b2-c531-4f7b-b495-62781edd3800\",\n",
    "    \"429378c2-98b3-4aa9-8576-5387055393b6\",\n",
    "    \"1_modal\",\n",
    "    \"e058fa88-3465-4c0a-8a79-939c598a8580\",\n",
    "    \"2_fullscreen\",\n",
    "    \"d4c7be4d-463c-4b07-ab29-ce2cc38a75ad\",\n",
    "    '',\n",
    "    '',\n",
    "    '',\n",
    "    '',\n",
    "    '2020-09-11'\n",
    ")\n",
    "\n",
    "Enroll_RU = Experiment(\n",
    "    \"Enroll_RU\",\n",
    "    \"Returning Users who haven't enrolled in Cash yet\",\n",
    "    \"8f1a4354-05fe-4b51-8958-50decdeb52fe\",\n",
    "    'eddf40f6-3b0c-42a3-ac94-4eef8bba5ea7',\n",
    "    \"1a_slide-bot\",\n",
    "    'fed7a1a2-68f2-4c86-b47a-a29e186ab4e2',\n",
    "    \"1b_slidedown-top\",\n",
    "    '758e0b92-e236-48a7-b3ef-b25964816340',\n",
    "    \"2_modal\",\n",
    "    'fe684510-604c-42fe-8b76-7c8e5ace7207',\n",
    "    \"3_fullscreen\",\n",
    "    'c473ba5e-e773-473d-b7cf-0372c7fa3908',\n",
    "    '2020-09-11'\n",
    ")\n",
    "\n",
    "Enroll_NU = Experiment(\n",
    "    \"Enroll_NU\", \n",
    "    \"New Users who haven't enrolled in Cash\",\n",
    "    \"2b8a1148-8c2f-4e73-8e6a-bf8fab48612c\",\n",
    "    '17d9f3c9-d076-4214-b4b2-39f4a7e36106',\n",
    "    \"1_modal\",\n",
    "    'd4fbe974-36b1-46e1-a028-070589401922',\n",
    "    \"2_fullscreen\",\n",
    "    'a5ef90d5-4c74-4f6c-8950-27a039094bcf',\n",
    "    '',\n",
    "    '',\n",
    "    '',\n",
    "    '',\n",
    "    '2020-09-11'\n",
    ")\n",
    "6f382c4d-8431-4705-b08d-1a85046ffa78"
   ]
  },
  {
   "cell_type": "code",
   "execution_count": 15,
   "metadata": {
    "Collapsed": "false"
   },
   "outputs": [
    {
     "data": {
      "text/plain": [
       "'1_modal'"
      ]
     },
     "execution_count": 15,
     "metadata": {},
     "output_type": "execute_result"
    }
   ],
   "source": [
    "Enroll_NU.variant_id1_name"
   ]
  },
  {
   "cell_type": "code",
   "execution_count": 1,
   "metadata": {
    "Collapsed": "false"
   },
   "outputs": [],
   "source": [
    "import pandas as pd\n",
    "\n",
    "import sys\n",
    "sys.path.append('C:/Users\\mvinasco/Documents/utilities')\n",
    "import connect_redshift as crs\n",
    "engine = crs.RedShift_engine()"
   ]
  },
  {
   "cell_type": "code",
   "execution_count": 2,
   "metadata": {
    "Collapsed": "false"
   },
   "outputs": [],
   "source": [
    "import numpy as np"
   ]
  },
  {
   "cell_type": "markdown",
   "metadata": {
    "Collapsed": "false"
   },
   "source": [
    "### Query"
   ]
  },
  {
   "cell_type": "code",
   "execution_count": 22,
   "metadata": {
    "Collapsed": "false"
   },
   "outputs": [],
   "source": [
    "query1 = f\"\"\"\n",
    "with send_info AS (\n",
    "    select sl.usertoken,  sl.campaign_name, date_trunc('day',sl.send_date) send_date,\n",
    "           sl.mailing_id,\n",
    "    case sl.message_id\n",
    "    when '{Enroll_NU.control_id}' then '{Enroll_NU.Campaign_name+ '_Control'}'\n",
    "    when '{Enroll_RU.control_id}' then '{Enroll_RU.Campaign_name+ '_Control'}'\n",
    "    when '{Fund_NU.control_id}' then '{Fund_NU.Campaign_name+ '_Control'}'\n",
    "    when '{Fund_RU.control_id}' then '{Fund_RU.Campaign_name+ '_Control'}'\n",
    "    when '{Activate_NU.control_id}' then '{Activate_NU.Campaign_name+ '_Control'}'\n",
    "    when '{Activate_RU.control_id}' then '{Activate_RU.Campaign_name+ '_Control'}'\n",
    "    \n",
    "    when '{Enroll_NU.variant_id1_name}' then '{Enroll_NU.Campaign_name \n",
    "                + Enroll_NU.variant_id1_name}'\n",
    "    \n",
    "    \n",
    "                \n",
    "    \"\"\"\n",
    "\n"
   ]
  },
  {
   "cell_type": "code",
   "execution_count": 23,
   "metadata": {
    "Collapsed": "false"
   },
   "outputs": [
    {
     "data": {
      "text/plain": [
       "\"\\nwith send_info AS (\\n    select sl.usertoken,  sl.campaign_name, date_trunc('day',sl.send_date) send_date,\\n           sl.mailing_id,\\n    case sl.message_id\\n    when '17d9f3c9-d076-4214-b4b2-39f4a7e36106' then 'Enroll_NU_Control'\\n    when 'eddf40f6-3b0c-42a3-ac94-4eef8bba5ea7' then 'Enroll_RU_Control'\\n    when '429378c2-98b3-4aa9-8576-5387055393b6' then 'Fund_NU_Control'\\n    when 'bf3f6624-02f6-449d-a19f-f9e6ea2192c1' then 'Fund_RU_Control'\\n    when '9ee47765-987f-4f08-911e-61422670f127' then 'Activate_NU_Control'\\n    when 'cb580324-bfb7-4836-ba5c-4161081cebec' then 'Activate_RU_Control'\\n    \\n    when '1_modal' then 'Enroll_NU1_modal'\\n    \\n    \\n                \\n    \""
      ]
     },
     "execution_count": 23,
     "metadata": {},
     "output_type": "execute_result"
    }
   ],
   "source": [
    "query1"
   ]
  },
  {
   "cell_type": "code",
   "execution_count": null,
   "metadata": {
    "Collapsed": "false"
   },
   "outputs": [],
   "source": [
    "\"\"\"\n",
    "   Campaign_name: str\n",
    "    Camp_description: str\n",
    "    Campaign_API_Identifier: str\n",
    "    control_id: str\n",
    "    variant_id1_name: str    \n",
    "    send_date: str\n",
    "        \n",
    "Activate_RU\n",
    "Activate_NU \n",
    "Fund_RU \n",
    "Fund_NU \n",
    "Enroll_RU =\n",
    "Enroll_NU \n",
    "\n",
    "\"\"\""
   ]
  },
  {
   "cell_type": "code",
   "execution_count": 3,
   "metadata": {
    "Collapsed": "false"
   },
   "outputs": [
    {
     "data": {
      "text/html": [
       "<div>\n",
       "<style scoped>\n",
       "    .dataframe tbody tr th:only-of-type {\n",
       "        vertical-align: middle;\n",
       "    }\n",
       "\n",
       "    .dataframe tbody tr th {\n",
       "        vertical-align: top;\n",
       "    }\n",
       "\n",
       "    .dataframe thead th {\n",
       "        text-align: right;\n",
       "    }\n",
       "</style>\n",
       "<table border=\"1\" class=\"dataframe\">\n",
       "  <thead>\n",
       "    <tr style=\"text-align: right;\">\n",
       "      <th></th>\n",
       "      <th>variant</th>\n",
       "      <th>campaign_name</th>\n",
       "      <th>users</th>\n",
       "      <th>opens</th>\n",
       "      <th>clicks</th>\n",
       "      <th>total_click_applies</th>\n",
       "      <th>unq_click_applies</th>\n",
       "      <th>email_revenue</th>\n",
       "      <th>conversions</th>\n",
       "      <th>logins</th>\n",
       "    </tr>\n",
       "  </thead>\n",
       "  <tbody>\n",
       "    <tr>\n",
       "      <th>0</th>\n",
       "      <td>Moprheus</td>\n",
       "      <td>o- What's Changed - Increase - 6.1.20</td>\n",
       "      <td>152760</td>\n",
       "      <td>143911</td>\n",
       "      <td>54024</td>\n",
       "      <td>1922</td>\n",
       "      <td>1476</td>\n",
       "      <td>1633.00</td>\n",
       "      <td>50</td>\n",
       "      <td>898076</td>\n",
       "    </tr>\n",
       "    <tr>\n",
       "      <th>1</th>\n",
       "      <td>Moprheus</td>\n",
       "      <td>o - Score Over Time - 6.1.20</td>\n",
       "      <td>1743342</td>\n",
       "      <td>970410</td>\n",
       "      <td>146108</td>\n",
       "      <td>8068</td>\n",
       "      <td>6304</td>\n",
       "      <td>4850.00</td>\n",
       "      <td>140</td>\n",
       "      <td>4100710</td>\n",
       "    </tr>\n",
       "    <tr>\n",
       "      <th>2</th>\n",
       "      <td>Control</td>\n",
       "      <td>o - Score Over Time - 6.1.20</td>\n",
       "      <td>1743122</td>\n",
       "      <td>969445</td>\n",
       "      <td>144694</td>\n",
       "      <td>6670</td>\n",
       "      <td>5556</td>\n",
       "      <td>4670.08</td>\n",
       "      <td>159</td>\n",
       "      <td>4139472</td>\n",
       "    </tr>\n",
       "    <tr>\n",
       "      <th>3</th>\n",
       "      <td>Moprheus</td>\n",
       "      <td>o- Become Eligible for Awesome Things - 6.1.20</td>\n",
       "      <td>1397180</td>\n",
       "      <td>1317280</td>\n",
       "      <td>139814</td>\n",
       "      <td>8112</td>\n",
       "      <td>6236</td>\n",
       "      <td>3962.54</td>\n",
       "      <td>148</td>\n",
       "      <td>3773208</td>\n",
       "    </tr>\n",
       "    <tr>\n",
       "      <th>4</th>\n",
       "      <td>Moprheus</td>\n",
       "      <td>o- New Card Decline - Universal Link - 6.1.20</td>\n",
       "      <td>593182</td>\n",
       "      <td>288036</td>\n",
       "      <td>38596</td>\n",
       "      <td>2366</td>\n",
       "      <td>1772</td>\n",
       "      <td>1640.00</td>\n",
       "      <td>74</td>\n",
       "      <td>1265414</td>\n",
       "    </tr>\n",
       "  </tbody>\n",
       "</table>\n",
       "</div>"
      ],
      "text/plain": [
       "    variant                                   campaign_name    users    opens  \\\n",
       "0  Moprheus           o- What's Changed - Increase - 6.1.20   152760   143911   \n",
       "1  Moprheus                    o - Score Over Time - 6.1.20  1743342   970410   \n",
       "2   Control                    o - Score Over Time - 6.1.20  1743122   969445   \n",
       "3  Moprheus  o- Become Eligible for Awesome Things - 6.1.20  1397180  1317280   \n",
       "4  Moprheus   o- New Card Decline - Universal Link - 6.1.20   593182   288036   \n",
       "\n",
       "   clicks  total_click_applies  unq_click_applies  email_revenue  conversions  \\\n",
       "0   54024                 1922               1476        1633.00           50   \n",
       "1  146108                 8068               6304        4850.00          140   \n",
       "2  144694                 6670               5556        4670.08          159   \n",
       "3  139814                 8112               6236        3962.54          148   \n",
       "4   38596                 2366               1772        1640.00           74   \n",
       "\n",
       "    logins  \n",
       "0   898076  \n",
       "1  4100710  \n",
       "2  4139472  \n",
       "3  3773208  \n",
       "4  1265414  "
      ]
     },
     "execution_count": 3,
     "metadata": {},
     "output_type": "execute_result"
    }
   ],
   "source": [
    "query1 = \"\"\"\n",
    "with send_info AS (\n",
    "    select sl.usertoken,  sl.campaign_name, date_trunc('day',sl.send_date) send_date,\n",
    "           sl.mailing_id,\n",
    "            case sl.message_id\n",
    "                        when 'f8e63b69-2915-45d0-87f9-93deb363b7a0' then 'Control'\n",
    "                        when '8c004a0f-abca-462a-87c4-b074463e07ef' then 'Moprheus'\n",
    "                        when '3d22aa86-884a-4d89-8a22-3425d9f12a7c' then 'Control'\n",
    "                        when '3f8d75ae-e64d-42e5-bcfc-c78e4b6359ee' then 'Moprheus'\n",
    "                        when '5e709269-4487-4e2c-b9d1-b2bb78e8a440' then 'Control'\n",
    "                        when '92f2e43a-8fc0-457e-bc5b-acda380c7fd8' then 'Moprheus'\n",
    "                        when '444101aa-e481-44f7-bf38-defbeed42718' then 'Control'\n",
    "                        when 'fd7737f1-9031-4dd4-846f-2ede2bc280f4' then 'Moprheus'\n",
    "                        when '14a8c0b4-6902-4616-8af7-653b35329f91' then 'Control'\n",
    "                        when '3e580317-7f70-45ab-b7ad-3f1c872410e0' then 'Moprheus'\n",
    "                        end as variant\n",
    "    from  email_ops.strongview_email_send_log sl\n",
    "    where campaign_id in ('ca260f98-8df4-4fe5-a316-dbee07ce065d', '475fbae3-ff2b-42af-af6b-d42099b3732a',\n",
    "                         'eafeab81-6f93-464b-8d7c-3249cd2c4fd1', 'da1bf5fa-1e80-4b18-9ce6-976517945570',\n",
    "                         '37426904-aece-4559-9252-9fffd9a125db'\n",
    "        )\n",
    "    and sl.provider NOT IN  ('MIXPANEL','BRAZE_PUSH')\n",
    "       and sl.send_date >= '2020-06-19'\n",
    "    ),\n",
    "\n",
    "-- activity info includes opens and clicks on Test and Control emails only\n",
    "activity_info as (\n",
    "     Select si.usertoken, si.variant, si.campaign_name, si.send_date,  si.mailing_id,\n",
    "            sum(case when event_type='open' THEN 1 ELSE 0 END) AS opens,\n",
    "            sum(case when event_type='click' THEN 1 ELSE 0 END ) AS clicks\n",
    "\n",
    "     from send_info si\n",
    "         left join email_ops.email_activity_strongview a\n",
    "             on cast(si.usertoken as varchar)=cast(a.user_token as varchar)\n",
    "             and si.mailing_id=a.mailing_id\n",
    "    group by 1,2,3,4,5\n",
    "      ),\n",
    "\n",
    "clk_apply as (\n",
    "             select sl.usertoken, sl.variant, sl.campaign_name, sl.clicks, sl.opens,\n",
    "                    click_applies, ca.Revenue, ca.Conversions, ca.min_ca_time\n",
    "             from activity_info sl\n",
    "                      left outer join\n",
    "                  (Select c.usertoken,\n",
    "                              COALESCE(c.mailing_id,\n",
    "                                       SUBSTRING(c.ref_code, LEN(c.ref_code) - position('_' in reverse(ref_code)) + 2,\n",
    "                                                 50))               mailing_id,\n",
    "                          count(distinct c.clickid)          AS click_applies,\n",
    "                          count(distinct r.clickid)          AS Conversions,\n",
    "                          sum(coalesce(r.amountreported, 0)) AS Revenue,\n",
    "                          min(c.createdate) as min_ca_time\n",
    "\n",
    "                   from public.click_applies_properties c\n",
    "                            left outer join revenue.all_partners_revenue_data r\n",
    "                                on c.usertoken = r.usertoken\n",
    "                                    and c.clickid = r.clickid\n",
    "                                    and date_trunc('day', c.createdate) >= '2020-06-19'\n",
    "                   group by 1, 2) ca\n",
    "                  on sl.mailing_id = ca.mailing_id\n",
    "                      and sl.usertoken = ca.usertoken\n",
    "         ),\n",
    "\n",
    " logging_in as (\n",
    "         select ca.usertoken, ca.variant, ca.campaign_name, ca.clicks, ca.opens,\n",
    "                    ca.click_applies, ca.Revenue, ca.Conversions,\n",
    "                    ua.action_type\n",
    "\n",
    "         from clk_apply ca\n",
    "         left outer join (\n",
    "             select usertoken,\n",
    "                    SUM(case when ua.action_type is not null then 1 else 0 end) as action_type,\n",
    "                    MIN( ua.action_timestamp) as min_logging_ts\n",
    "             from user_action ua\n",
    "             where  ua.action_timestamp >= '2020-06-19'\n",
    "             AND ua.action_type = 'LOGGED_IN'\n",
    "             group by 1\n",
    "             ) ua\n",
    "               ON ca.usertoken = cast(ua.usertoken as varchar)\n",
    "         )\n",
    "\n",
    " SELECT variant, campaign_name,\n",
    "     count(distinct usertoken) as users, sum(opens) as opens, sum(clicks) as clicks,\n",
    "     sum(click_applies) as total_click_applies, sum(case when click_applies is not null then 1 else 0 end) as unq_click_applies,\n",
    "     sum(Revenue) as email_revenue, sum(Conversions) as conversions, sum(action_type) as logins\n",
    " from   logging_in\n",
    " group by 1,2;\n",
    " \"\"\"\n",
    "ocf_df = pd.read_sql_query(query1, engine)\n",
    "ocf_df.head()"
   ]
  },
  {
   "cell_type": "code",
   "execution_count": null,
   "metadata": {
    "Collapsed": "false"
   },
   "outputs": [],
   "source": [
    "from dataclasses import dataclass\n",
    "\n",
    "@dataclass\n",
    "class Experiment:\n",
    "    control_id: str\n",
    "    variant_id: str\n",
    "    campaign_id: str\n",
    "    send_date: str\n",
    "        \n",
    "Whats_Changed_Decrease = Experiment('f8e63b69-2915-45d0-87f9-93deb363b7a0' , '8c004a0f-abca-462a-87c4-b074463e07ef', \n",
    "                                          'ca260f98-8df4-4fe5-a316-dbee07ce065d', '2020-06-19')\n",
    "\n",
    "Whats_Changed_Increase = Experiment('3d22aa86-884a-4d89-8a22-3425d9f12a7c', '3f8d75ae-e64d-42e5-bcfc-c78e4b6359ee', \n",
    "                                         '475fbae3-ff2b-42af-af6b-d42099b3732a', '2020-06-19')\n",
    "\n",
    "Score_Over_Time = Experiment('5e709269-4487-4e2c-b9d1-b2bb78e8a440', '92f2e43a-8fc0-457e-bc5b-acda380c7fd8', \n",
    "                                'eafeab81-6f93-464b-8d7c-3249cd2c4fd1', '2020-06-19')\n",
    "\n",
    "New_Card_Decline = Experiment('444101aa-e481-44f7-bf38-defbeed42718', 'fd7737f1-9031-4dd4-846f-2ede2bc280f4', \n",
    "                                'da1bf5fa-1e80-4b18-9ce6-976517945570', '2020-06-19')\n",
    "\n",
    "Awesome_Things = Experiment('14a8c0b4-6902-4616-8af7-653b35329f91', '3e580317-7f70-45ab-b7ad-3f1c872410e0',\n",
    "                             '37426904-aece-4559-9252-9fffd9a125db', '2020-06-19')"
   ]
  },
  {
   "cell_type": "code",
   "execution_count": null,
   "metadata": {
    "Collapsed": "false"
   },
   "outputs": [],
   "source": [
    "mp_csweb_camp = [Whats_Changed_Decrease, Whats_Changed_Increase, Score_Over_Time, New_Card_Decline, Awesome_Things]\n",
    "for camp in mp_csweb_camp:\n",
    "    print(camp.campaign_id)"
   ]
  },
  {
   "cell_type": "markdown",
   "metadata": {
    "Collapsed": "false"
   },
   "source": [
    "Pilot Campaigns from June 19 - 21 to be analyzed for parity:\n",
    "\n",
    "What’s Changed Decrease\n",
    "Campaign link: https://dashboard-03.braze.com/engagement/campaigns/5e5aa66a3ea25b0a6398c695/5ccb40cad5b682337738a4bb?campaignName=o-%20What%27s%20Changed%20-%20Decrease%20-%206.1.20&page=-2&startDate=1592550000\n",
    "Dates: June 19 - 21\n",
    "Campaign ID: ca260f98-8df4-4fe5-a316-dbee07ce065d\n",
    "Control ID: f8e63b69-2915-45d0-87f9-93deb363b7a0\n",
    "Varient ID: 8c004a0f-abca-462a-87c4-b074463e07ef\n",
    "\n",
    "What’s Changed Increase\n",
    "Campaign link: https://dashboard-03.braze.com/engagement/campaigns/5e5aa4c336e9d93c7b22d60b/5ccb40cad5b682337738a4bb?campaignName=o-%20What%27s%20Changed%20-%20Increase%20-%206.1.20&page=-2&startDate=1592550000\n",
    "Dates: June 19 - 21\n",
    "Campaign ID: 475fbae3-ff2b-42af-af6b-d42099b3732a\n",
    "Control ID: 3d22aa86-884a-4d89-8a22-3425d9f12a7c\n",
    "Varient ID: 3f8d75ae-e64d-42e5-bcfc-c78e4b6359ee\n",
    "\n",
    "Score Over Time\n",
    "Campaign link: https://dashboard-03.braze.com/engagement/campaigns/5e62b3a83f88484fe6fe1f1e/5ccb40cad5b682337738a4bb?campaignName=o%20-%20Score%20Over%20Time%20-%206.1.20&page=-2&startDate=1592550000\n",
    "Dates: June 19 - 21\n",
    "Campaign ID: eafeab81-6f93-464b-8d7c-3249cd2c4fd1\n",
    "Control ID: 5e709269-4487-4e2c-b9d1-b2bb78e8a440\n",
    "Varient ID: 92f2e43a-8fc0-457e-bc5b-acda380c7fd8\n",
    "\n",
    "New Card Decline\n",
    "Campaign link: https://dashboard-03.braze.com/engagement/campaigns/5e5d902ad21f7924dbcdd2c4/5ccb40cad5b682337738a4bb?campaignName=o-%20New%20Card%20Decline%20-%20Universal%20Link%20-%206.1.20&page=-2&startDate=1592550000\n",
    "Dates: June 19 - 21\n",
    "Campaign ID: da1bf5fa-1e80-4b18-9ce6-976517945570\n",
    "Control ID: 444101aa-e481-44f7-bf38-defbeed42718\n",
    "Varient ID: fd7737f1-9031-4dd4-846f-2ede2bc280f4\n",
    "\n",
    "Awesome Things\n",
    "Campaign link: https://dashboard-03.braze.com/engagement/campaigns/5e5d9285125ebf29b2b5a037/5ccb40cad5b682337738a4bb?campaignName=o-%20Become%20Eligible%20for%20Awesome%20Things%20-%206.1.20&page=-2&startDate=1592550000\n",
    "Dates: June 19 - 21\n",
    "Campaign ID: 37426904-aece-4559-9252-9fffd9a125db\n",
    "Control ID: 14a8c0b4-6902-4616-8af7-653b35329f91\n",
    "Varient ID: 3e580317-7f70-45ab-b7ad-3f1c872410e0"
   ]
  },
  {
   "cell_type": "markdown",
   "metadata": {
    "Collapsed": "false"
   },
   "source": [
    "## Data Exploration"
   ]
  },
  {
   "cell_type": "code",
   "execution_count": 4,
   "metadata": {
    "Collapsed": "false"
   },
   "outputs": [],
   "source": [
    "CONTROL = 'Control'\n",
    "VARIATION = 'Moprheus'\n",
    "COHORT = 'users'"
   ]
  },
  {
   "cell_type": "code",
   "execution_count": 5,
   "metadata": {
    "Collapsed": "false"
   },
   "outputs": [
    {
     "data": {
      "text/html": [
       "<div>\n",
       "<style scoped>\n",
       "    .dataframe tbody tr th:only-of-type {\n",
       "        vertical-align: middle;\n",
       "    }\n",
       "\n",
       "    .dataframe tbody tr th {\n",
       "        vertical-align: top;\n",
       "    }\n",
       "\n",
       "    .dataframe thead th {\n",
       "        text-align: right;\n",
       "    }\n",
       "</style>\n",
       "<table border=\"1\" class=\"dataframe\">\n",
       "  <thead>\n",
       "    <tr style=\"text-align: right;\">\n",
       "      <th></th>\n",
       "      <th>variant</th>\n",
       "      <th>campaign_name</th>\n",
       "      <th>users</th>\n",
       "      <th>opens</th>\n",
       "      <th>clicks</th>\n",
       "      <th>total_click_applies</th>\n",
       "      <th>unq_click_applies</th>\n",
       "      <th>email_revenue</th>\n",
       "      <th>conversions</th>\n",
       "      <th>logins</th>\n",
       "    </tr>\n",
       "  </thead>\n",
       "  <tbody>\n",
       "    <tr>\n",
       "      <th>0</th>\n",
       "      <td>Moprheus</td>\n",
       "      <td>o- What's Changed - Increase - 6.1.20</td>\n",
       "      <td>152760</td>\n",
       "      <td>143911</td>\n",
       "      <td>54024</td>\n",
       "      <td>1922</td>\n",
       "      <td>1476</td>\n",
       "      <td>1633.00</td>\n",
       "      <td>50</td>\n",
       "      <td>898076</td>\n",
       "    </tr>\n",
       "    <tr>\n",
       "      <th>1</th>\n",
       "      <td>Moprheus</td>\n",
       "      <td>o - Score Over Time - 6.1.20</td>\n",
       "      <td>1743342</td>\n",
       "      <td>970410</td>\n",
       "      <td>146108</td>\n",
       "      <td>8068</td>\n",
       "      <td>6304</td>\n",
       "      <td>4850.00</td>\n",
       "      <td>140</td>\n",
       "      <td>4100710</td>\n",
       "    </tr>\n",
       "    <tr>\n",
       "      <th>2</th>\n",
       "      <td>Control</td>\n",
       "      <td>o - Score Over Time - 6.1.20</td>\n",
       "      <td>1743122</td>\n",
       "      <td>969445</td>\n",
       "      <td>144694</td>\n",
       "      <td>6670</td>\n",
       "      <td>5556</td>\n",
       "      <td>4670.08</td>\n",
       "      <td>159</td>\n",
       "      <td>4139472</td>\n",
       "    </tr>\n",
       "    <tr>\n",
       "      <th>3</th>\n",
       "      <td>Moprheus</td>\n",
       "      <td>o- Become Eligible for Awesome Things - 6.1.20</td>\n",
       "      <td>1397180</td>\n",
       "      <td>1317280</td>\n",
       "      <td>139814</td>\n",
       "      <td>8112</td>\n",
       "      <td>6236</td>\n",
       "      <td>3962.54</td>\n",
       "      <td>148</td>\n",
       "      <td>3773208</td>\n",
       "    </tr>\n",
       "    <tr>\n",
       "      <th>4</th>\n",
       "      <td>Moprheus</td>\n",
       "      <td>o- New Card Decline - Universal Link - 6.1.20</td>\n",
       "      <td>593182</td>\n",
       "      <td>288036</td>\n",
       "      <td>38596</td>\n",
       "      <td>2366</td>\n",
       "      <td>1772</td>\n",
       "      <td>1640.00</td>\n",
       "      <td>74</td>\n",
       "      <td>1265414</td>\n",
       "    </tr>\n",
       "    <tr>\n",
       "      <th>5</th>\n",
       "      <td>Control</td>\n",
       "      <td>o- What's Changed - Decrease - 6.1.20</td>\n",
       "      <td>71961</td>\n",
       "      <td>65670</td>\n",
       "      <td>14575</td>\n",
       "      <td>330</td>\n",
       "      <td>247</td>\n",
       "      <td>397.00</td>\n",
       "      <td>8</td>\n",
       "      <td>373067</td>\n",
       "    </tr>\n",
       "    <tr>\n",
       "      <th>6</th>\n",
       "      <td>Control</td>\n",
       "      <td>o- Become Eligible for Awesome Things - 6.1.20</td>\n",
       "      <td>1398136</td>\n",
       "      <td>1318489</td>\n",
       "      <td>141968</td>\n",
       "      <td>11792</td>\n",
       "      <td>9765</td>\n",
       "      <td>4289.58</td>\n",
       "      <td>148</td>\n",
       "      <td>3757032</td>\n",
       "    </tr>\n",
       "    <tr>\n",
       "      <th>7</th>\n",
       "      <td>Control</td>\n",
       "      <td>o- What's Changed - Increase - 6.1.20</td>\n",
       "      <td>154013</td>\n",
       "      <td>146297</td>\n",
       "      <td>54895</td>\n",
       "      <td>1053</td>\n",
       "      <td>863</td>\n",
       "      <td>704.00</td>\n",
       "      <td>20</td>\n",
       "      <td>958480</td>\n",
       "    </tr>\n",
       "    <tr>\n",
       "      <th>8</th>\n",
       "      <td>Control</td>\n",
       "      <td>o- New Card Decline - Universal Link - 6.1.20</td>\n",
       "      <td>593628</td>\n",
       "      <td>288127</td>\n",
       "      <td>38640</td>\n",
       "      <td>2899</td>\n",
       "      <td>2337</td>\n",
       "      <td>1919.00</td>\n",
       "      <td>65</td>\n",
       "      <td>1282804</td>\n",
       "    </tr>\n",
       "    <tr>\n",
       "      <th>9</th>\n",
       "      <td>Moprheus</td>\n",
       "      <td>o- What's Changed - Decrease - 6.1.20</td>\n",
       "      <td>72464</td>\n",
       "      <td>66109</td>\n",
       "      <td>14867</td>\n",
       "      <td>370</td>\n",
       "      <td>303</td>\n",
       "      <td>190.00</td>\n",
       "      <td>9</td>\n",
       "      <td>366154</td>\n",
       "    </tr>\n",
       "  </tbody>\n",
       "</table>\n",
       "</div>"
      ],
      "text/plain": [
       "    variant                                   campaign_name    users    opens  \\\n",
       "0  Moprheus           o- What's Changed - Increase - 6.1.20   152760   143911   \n",
       "1  Moprheus                    o - Score Over Time - 6.1.20  1743342   970410   \n",
       "2   Control                    o - Score Over Time - 6.1.20  1743122   969445   \n",
       "3  Moprheus  o- Become Eligible for Awesome Things - 6.1.20  1397180  1317280   \n",
       "4  Moprheus   o- New Card Decline - Universal Link - 6.1.20   593182   288036   \n",
       "5   Control           o- What's Changed - Decrease - 6.1.20    71961    65670   \n",
       "6   Control  o- Become Eligible for Awesome Things - 6.1.20  1398136  1318489   \n",
       "7   Control           o- What's Changed - Increase - 6.1.20   154013   146297   \n",
       "8   Control   o- New Card Decline - Universal Link - 6.1.20   593628   288127   \n",
       "9  Moprheus           o- What's Changed - Decrease - 6.1.20    72464    66109   \n",
       "\n",
       "   clicks  total_click_applies  unq_click_applies  email_revenue  conversions  \\\n",
       "0   54024                 1922               1476        1633.00           50   \n",
       "1  146108                 8068               6304        4850.00          140   \n",
       "2  144694                 6670               5556        4670.08          159   \n",
       "3  139814                 8112               6236        3962.54          148   \n",
       "4   38596                 2366               1772        1640.00           74   \n",
       "5   14575                  330                247         397.00            8   \n",
       "6  141968                11792               9765        4289.58          148   \n",
       "7   54895                 1053                863         704.00           20   \n",
       "8   38640                 2899               2337        1919.00           65   \n",
       "9   14867                  370                303         190.00            9   \n",
       "\n",
       "    logins  \n",
       "0   898076  \n",
       "1  4100710  \n",
       "2  4139472  \n",
       "3  3773208  \n",
       "4  1265414  \n",
       "5   373067  \n",
       "6  3757032  \n",
       "7   958480  \n",
       "8  1282804  \n",
       "9   366154  "
      ]
     },
     "execution_count": 5,
     "metadata": {},
     "output_type": "execute_result"
    }
   ],
   "source": [
    "ocf_df\n"
   ]
  },
  {
   "cell_type": "code",
   "execution_count": 6,
   "metadata": {
    "Collapsed": "false"
   },
   "outputs": [],
   "source": [
    "import xlwings as xw\n",
    "\n",
    "def writes_df_excel(sht, df, rangename):\n",
    "    # clears existing data\n",
    "    x0 = sht.range('A1').end('down')\n",
    "    y0 = sht.range('A1').end('right')\n",
    "    sht.range(x0,y0).clear()\n",
    "\n",
    "    sht.range('A1').options(index=False).value  = df\n",
    "    tbl_range = sht.range(\"A1\").expand('table')\n",
    "    sht.api.ListObjects.Add(1, sht.api.Range(tbl_range.address))\n",
    "    \n",
    "    sht.range(tbl_range).expand().name = rangename"
   ]
  },
  {
   "cell_type": "code",
   "execution_count": 7,
   "metadata": {
    "Collapsed": "false"
   },
   "outputs": [],
   "source": [
    "wb = xw.Book(r'C:\\Users\\mvinasco\\Documents\\Morpheus\\ocf_test.xlsx')\n",
    "sht = wb.sheets['5OCFS']\n",
    "writes_df_excel(sht, df=ocf_df, rangename='kpis')"
   ]
  },
  {
   "cell_type": "markdown",
   "metadata": {
    "Collapsed": "false"
   },
   "source": [
    "# A|B Test Analysis\n"
   ]
  },
  {
   "cell_type": "code",
   "execution_count": 8,
   "metadata": {
    "Collapsed": "false"
   },
   "outputs": [],
   "source": [
    "# Analysis using Beta distributions\n",
    "\n",
    "# https://towardsdatascience.com/bayesian-a-b-testing-with-python-the-easy-guide-d638f89e0b8a\n",
    "from scipy.stats import beta\n",
    "import numpy as np\n",
    "from calc_prob import calc_prob_between"
   ]
  },
  {
   "cell_type": "code",
   "execution_count": 9,
   "metadata": {
    "Collapsed": "false"
   },
   "outputs": [],
   "source": [
    "import matplotlib.pyplot as plt\n",
    "\n",
    "def calc_beta_mode(a, b):\n",
    "    '''this function calculate the mode (peak) of the Beta distribution'''\n",
    "    return (a-1)/(a+b-2)\n",
    "\n",
    "def plot(betas, names, linf=0, lsup=0.01):\n",
    "    '''this function plots the Beta distribution'''\n",
    "    x=np.linspace(linf,lsup, 100)\n",
    "    for f, name in zip(betas,names) :\n",
    "        y=f.pdf(x) #this for calculate the value for the PDF at the specified x-points\n",
    "        y_mode=calc_beta_mode(f.args[0], f.args[1])\n",
    "        y_var=f.var() # the variance of the Beta distribution\n",
    "        plt.plot(x,y, label=f\"{name} sample, conversion rate: {y_mode:0.1E} $\\pm$ {y_var:0.1E}\")\n",
    "        plt.yticks([])\n",
    "    plt.legend()\n",
    "    plt.show()\n"
   ]
  },
  {
   "cell_type": "code",
   "execution_count": 10,
   "metadata": {
    "Collapsed": "false"
   },
   "outputs": [],
   "source": [
    "# Metrics\n",
    "T_C = [ CONTROL, VARIATION]\n",
    "kpi_names =  ['opens', 'clicks', 'total_click_applies', 'unq_click_applies' ,'conversions', 'logins']\n",
    "\n",
    "mp_csweb_camp = ocf_df['campaign_name'].unique()\n"
   ]
  },
  {
   "cell_type": "code",
   "execution_count": 11,
   "metadata": {
    "Collapsed": "false"
   },
   "outputs": [
    {
     "data": {
      "text/html": [
       "<div>\n",
       "<style scoped>\n",
       "    .dataframe tbody tr th:only-of-type {\n",
       "        vertical-align: middle;\n",
       "    }\n",
       "\n",
       "    .dataframe tbody tr th {\n",
       "        vertical-align: top;\n",
       "    }\n",
       "\n",
       "    .dataframe thead tr th {\n",
       "        text-align: left;\n",
       "    }\n",
       "\n",
       "    .dataframe thead tr:last-of-type th {\n",
       "        text-align: right;\n",
       "    }\n",
       "</style>\n",
       "<table border=\"1\" class=\"dataframe\">\n",
       "  <thead>\n",
       "    <tr>\n",
       "      <th></th>\n",
       "      <th colspan=\"2\" halign=\"left\">clicks</th>\n",
       "      <th colspan=\"2\" halign=\"left\">conversions</th>\n",
       "      <th colspan=\"2\" halign=\"left\">email_revenue</th>\n",
       "      <th colspan=\"2\" halign=\"left\">logins</th>\n",
       "      <th colspan=\"2\" halign=\"left\">opens</th>\n",
       "      <th colspan=\"2\" halign=\"left\">total_click_applies</th>\n",
       "      <th colspan=\"2\" halign=\"left\">unq_click_applies</th>\n",
       "      <th colspan=\"2\" halign=\"left\">users</th>\n",
       "    </tr>\n",
       "    <tr>\n",
       "      <th>variant</th>\n",
       "      <th>Control</th>\n",
       "      <th>Moprheus</th>\n",
       "      <th>Control</th>\n",
       "      <th>Moprheus</th>\n",
       "      <th>Control</th>\n",
       "      <th>Moprheus</th>\n",
       "      <th>Control</th>\n",
       "      <th>Moprheus</th>\n",
       "      <th>Control</th>\n",
       "      <th>Moprheus</th>\n",
       "      <th>Control</th>\n",
       "      <th>Moprheus</th>\n",
       "      <th>Control</th>\n",
       "      <th>Moprheus</th>\n",
       "      <th>Control</th>\n",
       "      <th>Moprheus</th>\n",
       "    </tr>\n",
       "    <tr>\n",
       "      <th>campaign_name</th>\n",
       "      <th></th>\n",
       "      <th></th>\n",
       "      <th></th>\n",
       "      <th></th>\n",
       "      <th></th>\n",
       "      <th></th>\n",
       "      <th></th>\n",
       "      <th></th>\n",
       "      <th></th>\n",
       "      <th></th>\n",
       "      <th></th>\n",
       "      <th></th>\n",
       "      <th></th>\n",
       "      <th></th>\n",
       "      <th></th>\n",
       "      <th></th>\n",
       "    </tr>\n",
       "  </thead>\n",
       "  <tbody>\n",
       "    <tr>\n",
       "      <th>o - Score Over Time - 6.1.20</th>\n",
       "      <td>144694</td>\n",
       "      <td>146108</td>\n",
       "      <td>159</td>\n",
       "      <td>140</td>\n",
       "      <td>4670.08</td>\n",
       "      <td>4850.00</td>\n",
       "      <td>4139472</td>\n",
       "      <td>4100710</td>\n",
       "      <td>969445</td>\n",
       "      <td>970410</td>\n",
       "      <td>6670</td>\n",
       "      <td>8068</td>\n",
       "      <td>5556</td>\n",
       "      <td>6304</td>\n",
       "      <td>1743122</td>\n",
       "      <td>1743342</td>\n",
       "    </tr>\n",
       "    <tr>\n",
       "      <th>o- Become Eligible for Awesome Things - 6.1.20</th>\n",
       "      <td>141968</td>\n",
       "      <td>139814</td>\n",
       "      <td>148</td>\n",
       "      <td>148</td>\n",
       "      <td>4289.58</td>\n",
       "      <td>3962.54</td>\n",
       "      <td>3757032</td>\n",
       "      <td>3773208</td>\n",
       "      <td>1318489</td>\n",
       "      <td>1317280</td>\n",
       "      <td>11792</td>\n",
       "      <td>8112</td>\n",
       "      <td>9765</td>\n",
       "      <td>6236</td>\n",
       "      <td>1398136</td>\n",
       "      <td>1397180</td>\n",
       "    </tr>\n",
       "    <tr>\n",
       "      <th>o- New Card Decline - Universal Link - 6.1.20</th>\n",
       "      <td>38640</td>\n",
       "      <td>38596</td>\n",
       "      <td>65</td>\n",
       "      <td>74</td>\n",
       "      <td>1919.00</td>\n",
       "      <td>1640.00</td>\n",
       "      <td>1282804</td>\n",
       "      <td>1265414</td>\n",
       "      <td>288127</td>\n",
       "      <td>288036</td>\n",
       "      <td>2899</td>\n",
       "      <td>2366</td>\n",
       "      <td>2337</td>\n",
       "      <td>1772</td>\n",
       "      <td>593628</td>\n",
       "      <td>593182</td>\n",
       "    </tr>\n",
       "    <tr>\n",
       "      <th>o- What's Changed - Decrease - 6.1.20</th>\n",
       "      <td>14575</td>\n",
       "      <td>14867</td>\n",
       "      <td>8</td>\n",
       "      <td>9</td>\n",
       "      <td>397.00</td>\n",
       "      <td>190.00</td>\n",
       "      <td>373067</td>\n",
       "      <td>366154</td>\n",
       "      <td>65670</td>\n",
       "      <td>66109</td>\n",
       "      <td>330</td>\n",
       "      <td>370</td>\n",
       "      <td>247</td>\n",
       "      <td>303</td>\n",
       "      <td>71961</td>\n",
       "      <td>72464</td>\n",
       "    </tr>\n",
       "    <tr>\n",
       "      <th>o- What's Changed - Increase - 6.1.20</th>\n",
       "      <td>54895</td>\n",
       "      <td>54024</td>\n",
       "      <td>20</td>\n",
       "      <td>50</td>\n",
       "      <td>704.00</td>\n",
       "      <td>1633.00</td>\n",
       "      <td>958480</td>\n",
       "      <td>898076</td>\n",
       "      <td>146297</td>\n",
       "      <td>143911</td>\n",
       "      <td>1053</td>\n",
       "      <td>1922</td>\n",
       "      <td>863</td>\n",
       "      <td>1476</td>\n",
       "      <td>154013</td>\n",
       "      <td>152760</td>\n",
       "    </tr>\n",
       "  </tbody>\n",
       "</table>\n",
       "</div>"
      ],
      "text/plain": [
       "                                                clicks          conversions  \\\n",
       "variant                                        Control Moprheus     Control   \n",
       "campaign_name                                                                 \n",
       "o - Score Over Time - 6.1.20                    144694   146108         159   \n",
       "o- Become Eligible for Awesome Things - 6.1.20  141968   139814         148   \n",
       "o- New Card Decline - Universal Link - 6.1.20    38640    38596          65   \n",
       "o- What's Changed - Decrease - 6.1.20            14575    14867           8   \n",
       "o- What's Changed - Increase - 6.1.20            54895    54024          20   \n",
       "\n",
       "                                                        email_revenue  \\\n",
       "variant                                        Moprheus       Control   \n",
       "campaign_name                                                           \n",
       "o - Score Over Time - 6.1.20                        140       4670.08   \n",
       "o- Become Eligible for Awesome Things - 6.1.20      148       4289.58   \n",
       "o- New Card Decline - Universal Link - 6.1.20        74       1919.00   \n",
       "o- What's Changed - Decrease - 6.1.20                 9        397.00   \n",
       "o- What's Changed - Increase - 6.1.20                50        704.00   \n",
       "\n",
       "                                                          logins           \\\n",
       "variant                                        Moprheus  Control Moprheus   \n",
       "campaign_name                                                               \n",
       "o - Score Over Time - 6.1.20                    4850.00  4139472  4100710   \n",
       "o- Become Eligible for Awesome Things - 6.1.20  3962.54  3757032  3773208   \n",
       "o- New Card Decline - Universal Link - 6.1.20   1640.00  1282804  1265414   \n",
       "o- What's Changed - Decrease - 6.1.20            190.00   373067   366154   \n",
       "o- What's Changed - Increase - 6.1.20           1633.00   958480   898076   \n",
       "\n",
       "                                                  opens           \\\n",
       "variant                                         Control Moprheus   \n",
       "campaign_name                                                      \n",
       "o - Score Over Time - 6.1.20                     969445   970410   \n",
       "o- Become Eligible for Awesome Things - 6.1.20  1318489  1317280   \n",
       "o- New Card Decline - Universal Link - 6.1.20    288127   288036   \n",
       "o- What's Changed - Decrease - 6.1.20             65670    66109   \n",
       "o- What's Changed - Increase - 6.1.20            146297   143911   \n",
       "\n",
       "                                               total_click_applies           \\\n",
       "variant                                                    Control Moprheus   \n",
       "campaign_name                                                                 \n",
       "o - Score Over Time - 6.1.20                                  6670     8068   \n",
       "o- Become Eligible for Awesome Things - 6.1.20               11792     8112   \n",
       "o- New Card Decline - Universal Link - 6.1.20                 2899     2366   \n",
       "o- What's Changed - Decrease - 6.1.20                          330      370   \n",
       "o- What's Changed - Increase - 6.1.20                         1053     1922   \n",
       "\n",
       "                                               unq_click_applies           \\\n",
       "variant                                                  Control Moprheus   \n",
       "campaign_name                                                               \n",
       "o - Score Over Time - 6.1.20                                5556     6304   \n",
       "o- Become Eligible for Awesome Things - 6.1.20              9765     6236   \n",
       "o- New Card Decline - Universal Link - 6.1.20               2337     1772   \n",
       "o- What's Changed - Decrease - 6.1.20                        247      303   \n",
       "o- What's Changed - Increase - 6.1.20                        863     1476   \n",
       "\n",
       "                                                  users           \n",
       "variant                                         Control Moprheus  \n",
       "campaign_name                                                     \n",
       "o - Score Over Time - 6.1.20                    1743122  1743342  \n",
       "o- Become Eligible for Awesome Things - 6.1.20  1398136  1397180  \n",
       "o- New Card Decline - Universal Link - 6.1.20    593628   593182  \n",
       "o- What's Changed - Decrease - 6.1.20             71961    72464  \n",
       "o- What's Changed - Increase - 6.1.20            154013   152760  "
      ]
     },
     "execution_count": 11,
     "metadata": {},
     "output_type": "execute_result"
    }
   ],
   "source": [
    "ocf_pt = pd.pivot_table(ocf_df, index='campaign_name', columns='variant', aggfunc='sum')\n",
    "ocf_pt"
   ]
  },
  {
   "cell_type": "code",
   "execution_count": 12,
   "metadata": {
    "Collapsed": "false"
   },
   "outputs": [],
   "source": [
    " # expected click applies (number should be differnt for each metric)\n",
    "priorf = {metric: {campaign: 0 for campaign in mp_csweb_camp} for metric in kpi_names}\n",
    "\n",
    "for campaign in mp_csweb_camp:\n",
    "    for metric in kpi_names:\n",
    "        priorf[metric][campaign] = ocf_pt.loc[campaign, metric][CONTROL]"
   ]
  },
  {
   "cell_type": "code",
   "execution_count": 13,
   "metadata": {
    "Collapsed": "false"
   },
   "outputs": [
    {
     "name": "stdout",
     "output_type": "stream",
     "text": [
      "campaign | metric | mean_Test | mean_Control | lift_pts | lift_% | probability\n",
      "o- What's Changed - Increase - 6.1.20 | opens | 0.6516344301387211 | 0.6551487101635218 | -0.003514280024800698 | -0.005364095159286128 | 0.9997559256401606\n",
      "o- What's Changed - Increase - 6.1.20 | clicks | 0.41485050466577794 | 0.4161817720041091 | -0.0013312673383311657 | -0.003198764164803502 | 0.8364388072409797\n",
      "o- What's Changed - Increase - 6.1.20 | total_click_applies | 0.019210155876693398 | 0.013489709772673409 | 0.005720446104019989 | 0.42405998352967555 | 1.0000000002179394\n",
      "o- What's Changed - Increase - 6.1.20 total_click_applies\n"
     ]
    },
    {
     "data": {
      "image/png": "[encoded data removed]",
      "text/plain": [
       "<Figure size 432x288 with 1 Axes>"
      ]
     },
     "metadata": {
      "needs_background": "light"
     },
     "output_type": "display_data"
    },
    {
     "name": "stdout",
     "output_type": "stream",
     "text": [
      "o- What's Changed - Increase - 6.1.20 | unq_click_applies | 0.015140530533511127 | 0.011082644681165283 | 0.004057885852345844 | 0.36614778954721283 | 1.000000000141991\n",
      "o- What's Changed - Increase - 6.1.20 unq_click_applies\n"
     ]
    },
    {
     "data": {
      "image/png": "[encoded data removed]",
      "text/plain": [
       "<Figure size 432x288 with 1 Axes>"
      ]
     },
     "metadata": {
      "needs_background": "light"
     },
     "output_type": "display_data"
    },
    {
     "name": "stdout",
     "output_type": "stream",
     "text": [
      "o- What's Changed - Increase - 6.1.20 | conversions | 0.0004581151832460733 | 0.0002596508993658027 | 0.0001984642838802706 | 0.7643504581151832 | 0.9983206059323761\n",
      "o- What's Changed - Increase - 6.1.20 | logins | 0.8970082909765572 | 0.9256325408394991 | -0.028624249862941875 | -0.03092398829991566 | 1.0000000010555536\n",
      "campaign | metric | mean_Test | mean_Control | lift_pts | lift_% | probability\n",
      "o - Score Over Time - 6.1.20 | opens | 0.526814986127979 | 0.5265843783235905 | 0.00023060780438843853 | 0.00043793134373372564 | 0.7345713506473203\n",
      "o - Score Over Time - 6.1.20 | clicks | 0.14305982594835517 | 0.142379619288466 | 0.0006802066598891876 | 0.004777415920118915 | 0.9750271384108529\n",
      "o - Score Over Time - 6.1.20 | total_click_applies | 0.00838968009007891 | 0.007594812754275356 | 0.0007948673358035537 | 0.10465924065818452 | 1.0000000033166956\n",
      "o - Score Over Time - 6.1.20 total_click_applies\n"
     ]
    },
    {
     "data": {
      "image/png": "[encoded data removed]",
      "text/plain": [
       "<Figure size 432x288 with 1 Axes>"
      ]
     },
     "metadata": {
      "needs_background": "light"
     },
     "output_type": "display_data"
    },
    {
     "name": "stdout",
     "output_type": "stream",
     "text": [
      "o - Score Over Time - 6.1.20 | unq_click_applies | 0.006759937849610192 | 0.006334388684747873 | 0.000425549164862319 | 0.06718077876827622 | 0.9999996160866135\n",
      "o - Score Over Time - 6.1.20 unq_click_applies\n"
     ]
    },
    {
     "data": {
      "image/png": "[encoded data removed]",
      "text/plain": [
       "<Figure size 432x288 with 1 Axes>"
      ]
     },
     "metadata": {
      "needs_background": "light"
     },
     "output_type": "display_data"
    },
    {
     "name": "stdout",
     "output_type": "stream",
     "text": [
      "o - Score Over Time - 6.1.20 | conversions | 0.0001714783845474462 | 0.0001823980177121094 | -1.0919633164663218e-05 | -0.059867060517611446 | 0.7784957581026287\n",
      "o - Score Over Time - 6.1.20 | logins | 0.8221858765555083 | 0.8260715904285604 | -0.0038857138730520324 | -0.004703846395487527 | 0.9999999649684247\n",
      "campaign | metric | mean_Test | mean_Control | lift_pts | lift_% | probability\n",
      "o- Become Eligible for Awesome Things - 6.1.20 | opens | 0.6533628578751749 | 0.6535076828064833 | -0.00014482493130840712 | -0.00022161167361714503 | 0.6672208917794401\n",
      "o- Become Eligible for Awesome Things - 6.1.20 | clicks | 0.16761603601417155 | 0.16880133549574572 | -0.0011852994815741702 | -0.007021860805147736 | 0.9981675304725145\n",
      "o- Become Eligible for Awesome Things - 6.1.20 | total_click_applies | 0.014009363976001644 | 0.016588357763835354 | -0.0025789937878337096 | -0.15547010888903245 | 0.9999999980320521\n",
      "o- Become Eligible for Awesome Things - 6.1.20 total_click_applies\n"
     ]
    },
    {
     "data": {
      "image/png": "[encoded data removed]",
      "text/plain": [
       "<Figure size 432x288 with 1 Axes>"
      ]
     },
     "metadata": {
      "needs_background": "light"
     },
     "output_type": "display_data"
    },
    {
     "name": "stdout",
     "output_type": "stream",
     "text": [
      "o- Become Eligible for Awesome Things - 6.1.20 | unq_click_applies | 0.011294478051259608 | 0.013776164484441328 | -0.00248168643318172 | -0.1801434961076803 | 1.0000000006688368\n",
      "o- Become Eligible for Awesome Things - 6.1.20 unq_click_applies\n"
     ]
    },
    {
     "data": {
      "image/png": "[encoded data removed]",
      "text/plain": [
       "<Figure size 432x288 with 1 Axes>"
      ]
     },
     "metadata": {
      "needs_background": "light"
     },
     "output_type": "display_data"
    },
    {
     "name": "stdout",
     "output_type": "stream",
     "text": [
      "o- Become Eligible for Awesome Things - 6.1.20 | conversions | 0.00021181043538493684 | 0.0002116656369419464 | 1.447984429904254e-07 | 0.0006840904602296844 | 0.5033179010706956\n",
      "o- Become Eligible for Awesome Things - 6.1.20 | logins | 0.845026799849718 | 0.8431211148762371 | 0.00190568497348087 | 0.002260274283085187 | 1.0000000144819903\n",
      "campaign | metric | mean_Test | mean_Control | lift_pts | lift_% | probability\n",
      "o- New Card Decline - Universal Link - 6.1.20 | opens | 0.4926845077456141 | 0.4925744647750799 | 0.00011004297053424095 | 0.00022340372553516136 | 0.5668370598779309\n",
      "o- New Card Decline - Universal Link - 6.1.20 | clicks | 0.11519817677959378 | 0.11518717916614499 | 1.0997613448790466e-05 | 9.547602023422767e-05 | 0.5079575295540487\n",
      "o- New Card Decline - Universal Link - 6.1.20 | total_click_applies | 0.00878994290293499 | 0.009672586774681111 | -0.0008826438717461221 | -0.09125210166700432 | 0.9999997831749166\n",
      "o- New Card Decline - Universal Link - 6.1.20 total_click_applies\n"
     ]
    },
    {
     "data": {
      "image/png": "[encoded data removed]",
      "text/plain": [
       "<Figure size 432x288 with 1 Axes>"
      ]
     },
     "metadata": {
      "needs_background": "light"
     },
     "output_type": "display_data"
    },
    {
     "name": "stdout",
     "output_type": "stream",
     "text": [
      "o- New Card Decline - Universal Link - 6.1.20 | unq_click_applies | 0.006872892469089547 | 0.007812108266393895 | -0.0009392157973043477 | -0.12022565039768632 | 0.999999999773857\n",
      "o- New Card Decline - Universal Link - 6.1.20 unq_click_applies\n"
     ]
    },
    {
     "data": {
      "image/png": "[encoded data removed]",
      "text/plain": [
       "<Figure size 432x288 with 1 Axes>"
      ]
     },
     "metadata": {
      "needs_background": "light"
     },
     "output_type": "display_data"
    },
    {
     "name": "stdout",
     "output_type": "stream",
     "text": [
      "o- New Card Decline - Universal Link - 6.1.20 | conversions | 0.00023427808640310663 | 0.000218944418433099 | 1.5333667970007618e-05 | 0.07003452328104448 | 0.7108470597730356\n",
      "o- New Card Decline - Universal Link - 6.1.20 | logins | 0.8067069985659066 | 0.8120976084091217 | -0.005390609843215155 | -0.00663788415012725 | 0.9999999875453568\n",
      "campaign | metric | mean_Test | mean_Control | lift_pts | lift_% | probability\n",
      "o- What's Changed - Decrease - 6.1.20 | opens | 0.6465967301917529 | 0.6460371567282011 | 0.0005595734635518435 | 0.0008661629717797573 | 0.6455669632896508\n",
      "o- What's Changed - Decrease - 6.1.20 | clicks | 0.289743539276084 | 0.2882970201066155 | 0.0014465191694684743 | 0.005017461397740202 | 0.763740647613479\n",
      "o- What's Changed - Decrease - 6.1.20 | total_click_applies | 0.009572780482468136 | 0.009088280249514602 | 0.00048450023295353375 | 0.053310441541391786 | 0.8320549018924218\n",
      "o- What's Changed - Decrease - 6.1.20 total_click_applies\n"
     ]
    },
    {
     "data": {
      "image/png": "[encoded data removed]",
      "text/plain": [
       "<Figure size 432x288 with 1 Axes>"
      ]
     },
     "metadata": {
      "needs_background": "light"
     },
     "output_type": "display_data"
    },
    {
     "name": "stdout",
     "output_type": "stream",
     "text": [
      "o- What's Changed - Decrease - 6.1.20 | unq_click_applies | 0.007538583842758848 | 0.006818024981022704 | 0.0007205588617361439 | 0.10568439742326377 | 0.9482800817776025\n",
      "o- What's Changed - Decrease - 6.1.20 unq_click_applies\n"
     ]
    },
    {
     "data": {
      "image/png": "[encoded data removed]",
      "text/plain": [
       "<Figure size 432x288 with 1 Axes>"
      ]
     },
     "metadata": {
      "needs_background": "light"
     },
     "output_type": "display_data"
    },
    {
     "name": "stdout",
     "output_type": "stream",
     "text": [
      "o- What's Changed - Decrease - 6.1.20 | conversions | 0.00023454746136865342 | 0.00022229323256040123 | 1.2254228808252193e-05 | 0.055126414183223005 | 0.5621717940865911\n",
      "o- What's Changed - Decrease - 6.1.20 | logins | 0.9030329905521391 | 0.9120383329564415 | -0.009005342404302397 | -0.009873863936300676 | 1.0000000019271116\n"
     ]
    }
   ],
   "source": [
    "#impressions and conversions for the Control and Test set\n",
    "for campaign in mp_csweb_camp:\n",
    "    print('campaign | metric | mean_Test | mean_Control | lift_pts | lift_% | probability')\n",
    "    for metric in kpi_names:\n",
    "        imps_ctrl,convs_ctrl= ocf_pt.loc[campaign, COHORT][CONTROL], ocf_pt.loc[campaign, metric][CONTROL]\n",
    "        imps_test, convs_test= ocf_pt.loc[campaign, COHORT][VARIATION], ocf_pt.loc[campaign, metric][VARIATION]\n",
    "\n",
    "        # expected click applies (number should be differnt for each metric)\n",
    "        prior = priorf[metric][campaign]  \n",
    "\n",
    "        #here we create the Beta functions for the two sets\n",
    "        a_C, b_C = convs_ctrl+prior, imps_ctrl-convs_ctrl+prior\n",
    "        beta_C = beta(a_C, b_C)\n",
    "        a_T, b_T = convs_test+prior, imps_test-convs_test+prior\n",
    "        beta_T = beta(a_T, b_T)\n",
    "\n",
    "        #calculating the lift\n",
    "        lift=(beta_T.mean()-beta_C.mean())/beta_C.mean()\n",
    "        lift_pts =(beta_T.mean()-beta_C.mean())\n",
    "\n",
    "        #calculating the probability for Test to be better than Control\n",
    "        if lift < 0:\n",
    "            prob=calc_prob_between(beta_C, beta_T)\n",
    "        else:\n",
    "            prob=calc_prob_between(beta_T, beta_C)\n",
    "\n",
    "\n",
    "        print(campaign,'|' ,metric, '|', beta_T.mean(), '|', beta_C.mean(), '|', lift_pts, '|', lift, '|',  prob)\n",
    "\n",
    "        lsup = max(beta_T.mean(), beta_C.mean())*1.2\n",
    "        if metric in ['total_click_applies', 'unq_click_applies']:\n",
    "            print(campaign, metric)\n",
    "            plot([beta_C, beta_T], names=[\"Control\", \"Test\"], linf=0, lsup=lsup)"
   ]
  },
  {
   "cell_type": "markdown",
   "metadata": {
    "Collapsed": "true"
   },
   "source": [
    "# Booststrap"
   ]
  },
  {
   "cell_type": "code",
   "execution_count": null,
   "metadata": {
    "Collapsed": "false"
   },
   "outputs": [],
   "source": [
    "# Bootstrap\n",
    "\n",
    "# This functions re sample with replacement and returns a list of arrays with the conversion and size of the resample\n",
    "# in alphabetical order by pivot_index field and sum== conversions and count==size\n",
    "\n",
    "def bootstrap(data_df, iterations, metric, pivot_index,  resample_rate=0.9):\n",
    "    statistics = []\n",
    "    for i in range(iterations):\n",
    "        resampled_df = data_df[[metric, pivot_index]].sample(frac=resample_rate, replace=True)\n",
    "        stats_pt = pd.pivot_table(resampled_df, values= metric, index=[pivot_index], columns=None, aggfunc=['sum', 'count'], fill_value=None, margins=False, dropna=True)\n",
    "        statistics.append(stats_pt.values)\n",
    "    return statistics\n",
    "    "
   ]
  },
  {
   "cell_type": "code",
   "execution_count": null,
   "metadata": {
    "Collapsed": "false"
   },
   "outputs": [],
   "source": [
    "iterations = 250\n",
    "metric='all_revenue'\n",
    "\n",
    "beta_params = bootstrap(data_df=vert_int_model_data_df, iterations=iterations, metric=metric,  pivot_index='test_control')"
   ]
  },
  {
   "cell_type": "code",
   "execution_count": null,
   "metadata": {
    "Collapsed": "false"
   },
   "outputs": [],
   "source": [
    "delta_beta_means = []\n",
    "for i in range(iterations):\n",
    "    delta = beta_params[i][1,0]/beta_params[i][1,1] - beta_params[i][0,0]/beta_params[i][0,1]\n",
    "    delta_beta_means.append(delta)\n",
    "    \n",
    "# Boostraped mean and CI\n",
    "ci = 95\n",
    "\n",
    "delta_beta_means  = np.asarray(delta_beta_means)\n",
    "\n",
    "lower = np.percentile(delta_beta_means, ((100-ci)/2))\n",
    "upper = np.percentile(delta_beta_means,( ci+((100-ci)/2)))\n",
    "\n",
    "print(round(delta_beta_means.mean(), 3), round(lower, 2), round(upper, 2), round((upper-lower)/2, 2)  )"
   ]
  },
  {
   "cell_type": "code",
   "execution_count": null,
   "metadata": {
    "Collapsed": "false"
   },
   "outputs": [],
   "source": [
    "plt.hist(delta_beta_means, normed=True, bins=30)\n",
    "plt.ylabel('Delta Revenue');"
   ]
  },
  {
   "cell_type": "code",
   "execution_count": null,
   "metadata": {
    "Collapsed": "false"
   },
   "outputs": [],
   "source": [
    "# Precentage of the time VARIATION better than CONTROl\n",
    "delta_beta_means[(0 < delta_beta_means)].size / delta_beta_means.size"
   ]
  },
  {
   "cell_type": "code",
   "execution_count": null,
   "metadata": {
    "Collapsed": "false"
   },
   "outputs": [],
   "source": [
    "vert_int_model_data_df[\n",
    "    (vert_int_model_data_df['click_apply'] > 0) & (vert_int_model_data_df['test_control'] == 'Test')]['usertoken'].head()"
   ]
  },
  {
   "cell_type": "code",
   "execution_count": null,
   "metadata": {
    "Collapsed": "false"
   },
   "outputs": [],
   "source": [
    "sample_usertoken = [\n",
    "    '6bf20a36-6d15-4eea-97d8-8cda0831b957',\n",
    "        '22d626d5-d1e6-438d-8009-00b274a0f07e',\n",
    "        'b11d37eb-2047-4d73-b074-9867ba219ee3',\n",
    "        'b4838712-8510-46de-bad5-35a17efa1d18',\n",
    "        '04d0b763-57a9-4673-9482-028846ed6829',\n",
    "        'c6356101-8b52-4384-9a3e-e2c7fade525c',\n",
    "        '5745b92a-6d93-45b1-9623-a054b3042204',\n",
    "        '41c5151a-efe7-4509-80af-02515ba537be',\n",
    "        '5ffe7b2e-9fb3-4226-9cad-721e23a1b2b4',\n",
    "        'f15e7d94-e83f-46f3-8b65-148996062a3e'\n",
    "]\n",
    "\n",
    "vert_int_model_data_df[vert_int_model_data_df['usertoken'].isin(sample_usertoken)].to_csv('sample_vm.csv')"
   ]
  },
  {
   "cell_type": "code",
   "execution_count": null,
   "metadata": {
    "Collapsed": "false"
   },
   "outputs": [],
   "source": []
  }
 ],
 "metadata": {
  "kernelspec": {
   "display_name": "Python 3",
   "language": "python",
   "name": "python3"
  },
  "language_info": {
   "codemirror_mode": {
    "name": "ipython",
    "version": 3
   },
   "file_extension": ".py",
   "mimetype": "text/x-python",
   "name": "python",
   "nbconvert_exporter": "python",
   "pygments_lexer": "ipython3",
   "version": "3.7.3"
  }
 },
 "nbformat": 4,
 "nbformat_minor": 4
}
