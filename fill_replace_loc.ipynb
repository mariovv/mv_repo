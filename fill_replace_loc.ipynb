{
 "cells": [
  {
   "cell_type": "markdown",
   "metadata": {
    "heading_collapsed": "false"
   },
   "source": [
    "Get the index of values in a column to be replaced by something else "
   ]
  },
  {
   "cell_type": "code",
   "execution_count": null,
   "metadata": {
    "heading_collapsed": "false"
   },
   "outputs": [],
   "source": [
    "# create a new column\n",
    "cash_df['campaign'] = 'email'\n",
    "\n",
    "# get index of rows to be replaced\n",
    "in_app_ix = cash_df[cash_df['campaign_name_inapp'] != 0].index\n",
    "\n",
    "# change values in thise rows in colum of interest\n",
    "cash_df.loc[in_app_ix, 'campaign'] = 'email+InApp'\n"
   ]
  },
  {
   "cell_type": "code",
   "execution_count": null,
   "metadata": {
    "heading_collapsed": "false"
   },
   "outputs": [],
   "source": [
    "# in the same column\n",
    "\n",
    "cash_df['campaign_name_inapp'] = cash_df['campaign_name_inapp'].fillna('NoInApp')"
   ]
  }
 ],
 "metadata": {
  "kernelspec": {
   "display_name": "Python 3",
   "language": "python",
   "name": "python3"
  },
  "language_info": {
   "codemirror_mode": {
    "name": "ipython",
    "version": 3
   },
   "file_extension": ".py",
   "mimetype": "text/x-python",
   "name": "python",
   "nbconvert_exporter": "python",
   "pygments_lexer": "ipython3",
   "version": "3.6.15"
  }
 },
 "nbformat": 4,
 "nbformat_minor": 4
}
