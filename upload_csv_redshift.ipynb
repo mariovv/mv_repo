{
 "cells": [
  {
   "cell_type": "markdown",
   "metadata": {
    "Collapsed": "false"
   },
   "source": [
    "# Upload CSV to RedShift\n"
   ]
  },
  {
   "cell_type": "code",
   "execution_count": null,
   "metadata": {
    "Collapsed": "false"
   },
   "outputs": [],
   "source": [
    "# From Michael\n",
    "def sqlalchemy_conn(system='Redshift'):\n",
    "    field_vals = {}\n",
    "    for field in FIELDS:\n",
    "        field_vals[field] = keyring.get_password(system, field)\n",
    "    engine = create_engine(\"postgresql://{user}:{password}@{host}:{port}/{dbname}\".format(**field_vals))\n",
    "    return engine"
   ]
  },
  {
   "cell_type": "code",
   "execution_count": null,
   "metadata": {
    "Collapsed": "false"
   },
   "outputs": [],
   "source": [
    "from sqlalchemy import create_engine\n",
    "\n",
    "\n",
    "import sys\n",
    "sys.path.append('C:/Users\\mvinasco/Documents/utilities')\n",
    "import connect_redshift as crs\n",
    "engine = crs.RedShift_engine()\n",
    "\n",
    "\n",
    "def create_table(df, table_name, schema, engine, system='Redshift'):\n",
    "    \"\"\"\n",
    "    Create a table in the schema with pandas dataframe.\n",
    "    \"\"\"\n",
    "    # engine = sqlalchemy_conn(system)\n",
    "    \n",
    "    conn = engine.connect()\n",
    "    df.to_sql(table_name, conn, schema=schema, index=False,  chunksize=1000, method='multi')"
   ]
  },
  {
   "cell_type": "code",
   "execution_count": null,
   "metadata": {
    "Collapsed": "false"
   },
   "outputs": [],
   "source": [
    "import pandas as pd"
   ]
  },
  {
   "cell_type": "code",
   "execution_count": null,
   "metadata": {
    "Collapsed": "false"
   },
   "outputs": [],
   "source": [
    "# read CSV\n",
    "\n",
    "df = pd.read_csv('C:/Users\\mvinasco\\Documents\\Ad Hocs\\Axiom\\DATA-5790-to-acxiom_OUT.csv', sep='|')\n",
    "df.head()\n",
    "# names=['usertoken', 'banking_user_id', 'Send_Card']"
   ]
  },
  {
   "cell_type": "code",
   "execution_count": null,
   "metadata": {
    "Collapsed": "false"
   },
   "outputs": [],
   "source": [
    "len(df)"
   ]
  },
  {
   "cell_type": "code",
   "execution_count": null,
   "metadata": {
    "Collapsed": "false"
   },
   "outputs": [],
   "source": [
    "df = df.drop(['first_name', 'last_name','address'], axis=1)"
   ]
  },
  {
   "cell_type": "code",
   "execution_count": null,
   "metadata": {
    "Collapsed": "false"
   },
   "outputs": [],
   "source": [
    "df.iloc[:, :].head(2)"
   ]
  },
  {
   "cell_type": "code",
   "execution_count": null,
   "metadata": {
    "Collapsed": "false"
   },
   "outputs": [],
   "source": [
    "df1 = df[[\n",
    "    'IBE7606_01',\n",
    "'IBE7606_02',\n",
    "'IBE7607_01',\n",
    "'IBE7607_02',\n",
    "'IBE9100',\n",
    "'IBE7600_22',\n",
    "'IBE7602_01',\n",
    "'IBE7602_02',\n",
    "'IBE7609_01',\n",
    "'IBE7609_02',\n",
    "'IBE7616_01',\n",
    "'IBE7616_02',\n",
    "'IBE7622_01',\n",
    "'IBE7622_02',\n",
    "'IBE7628_01',\n",
    "'IBE7628_02',\n",
    "'IBE7629_01',\n",
    "'IBE7629_02',\n",
    "'IBE7641_01',\n",
    "'IBE7641_02',\n",
    "'IBE7650_01',\n",
    "'IBE7650_02',\n",
    "'AP011283',\n",
    "'PX001270_01',\n",
    "'PX001270_02',\n",
    "'PX001271_01',\n",
    "'PX001271_02',\n",
    "'PX001274_01',\n",
    "'PX001274_02',\n",
    "'IBE1273_01',\n",
    "'IBE1273_02',\n",
    "'AP1999',\n",
    "'IBE2403_01',\n",
    "'AP000444_01',\n",
    "'AP000444_02',\n",
    "'AP000445_01',\n",
    "'AP000445_02',\n",
    "'AP000446_01',\n",
    "'AP000446_02',\n",
    "'AP000448_01',\n",
    "'AP000448_02',\n",
    "'AP000450_01',\n",
    "'AP000450_02',\n",
    "'AP000451_01',\n",
    "'AP000451_02',\n",
    "'AP000452_01',\n",
    "'AP000452_02',\n",
    "'AP000453_01',\n",
    "'AP000453_02',\n",
    "'AP000454_01',\n",
    "'AP000454_02',\n",
    "'AP000455_01',\n",
    "'AP000455_02',\n",
    "'AP000456_01',\n",
    "'AP000456_02',\n",
    "'AP004814_01',\n",
    "'AP004814_02',\n",
    "'IBE8642',\n",
    "'IBE8608',\n",
    "'IBE8625',\n",
    "'AP011282',\n",
    "'AP011284',\n",
    "'IBE2800',\n",
    "'IBE9350',\n",
    "'IBE9351',\n",
    "'IBE9356',\n",
    "'IBE9358',\n",
    "'IBE8629',\n",
    "'IBE3101',\n",
    "'IBE3102',\n",
    "'IBE3103',\n",
    "'IBE8610_01',\n",
    "'IBE8610_02',\n",
    "'IBE8610_03',\n",
    "'IBE8628',\n",
    "'IBE7110',\n",
    "'AP000316',\n",
    "'AP000442',\n",
    "'AP000514',\n",
    "'AP001294_01',\n",
    "'AP001294_02',\n",
    "'IBE9515',\n",
    "'IBE4000',\n",
    "'AP000315',\n",
    "'AP000319',\n",
    "'AP000331',\n",
    "'AP000332',\n",
    "'AP000342',\n",
    "'AP000386',\n",
    "'AP000387',\n",
    "'AP000388',\n",
    "'AP000391',\n",
    "'AP000409',\n",
    "'AP000410',\n",
    "'AP000411',\n",
    "'AP000412',\n",
    "'AP000413',\n",
    "'AP000414',\n",
    "'AP000415',\n",
    "'AP000416',\n",
    "'AP000417',\n",
    "'AP000465',\n",
    "'AP000466',\n",
    "'AP000467',\n",
    "'AP000468',\n",
    "'AP000469',\n",
    "'AP000472',\n",
    "'AP000473',\n",
    "'AP000474',\n",
    "'AP000475',\n",
    "'AP000476',\n",
    "'AP000477',\n",
    "'AP000486',\n",
    "'AP000496',\n",
    "'AP000509',\n",
    "'AP000510',\n",
    "'AP000513',\n",
    "'AP000517',\n",
    "'AP000518',\n",
    "'AP000521',\n",
    "'AP000522',\n",
    "'AP000523',\n",
    "'AP000526',\n",
    "'AP000535',\n",
    "'AP002778',\n",
    "'AP002779',\n",
    "'AP002780',\n",
    "'AP002781',\n",
    "'AP002897',\n",
    "'AP003446',\n",
    "'AP003447',\n",
    "'AP003448',\n",
    "'AP003587',\n",
    "'AP003588',\n",
    "'AP003589',\n",
    "'AP003590',\n",
    "'AP003591',\n",
    "'AP003592',\n",
    "'AP003593',\n",
    "'AP003594',\n",
    "'AP003595',\n",
    "'AP004868',\n",
    "'AP004869',\n",
    "'AP004870',\n",
    "'AP004874',\n",
    "'AP004875',\n",
    "'AP004876',\n",
    "'AP004877',\n",
    "'AP004878',\n",
    "'AP004880',\n",
    "'AP004896',\n",
    "'AP004897',\n",
    "'AP004898',\n",
    "'AP004899',\n",
    "'AP004900',\n",
    "'AP004901',\n",
    "'AP004902',\n",
    "'AP004903',\n",
    "'AP004904',\n",
    "'AP004905',\n",
    "'AP004906',\n",
    "'AP004907',\n",
    "'AP004908',\n",
    "'AP004909',\n",
    "'AP004910',\n",
    "'AP004911',\n",
    "'AP004912',\n",
    "'AP004913',\n",
    "'AP004916',\n",
    "'AP004921',\n",
    "'AP004922',\n",
    "'AP004923',\n",
    "'AP004924',\n",
    "'AP004926',\n",
    "'AP004937',\n",
    "'AP004938',\n",
    "'AP004939',\n",
    "'AP004940',\n",
    "'AP004941',\n",
    "'AP004942',\n",
    "'AP004943',\n",
    "'AP004944',\n",
    "'AP004945',\n",
    "'AP004946',\n",
    "'AP004947',\n",
    "'AP004948',\n",
    "'AP004949',\n",
    "'AP004950',\n",
    "'AP004951',\n",
    "'AP004958',\n",
    "'AP004970',\n",
    "'AP004972',\n",
    "'AP004974',\n",
    "'AP004975',\n",
    "'AP004976',\n",
    "'AP004985',\n",
    "'AP004986'\n",
    "]]"
   ]
  },
  {
   "cell_type": "code",
   "execution_count": null,
   "metadata": {
    "Collapsed": "false"
   },
   "outputs": [],
   "source": [
    "create_table(df1, 'mvinasco_acxiom_matched1', 'one_offs', engine, system='Redshift')"
   ]
  },
  {
   "cell_type": "code",
   "execution_count": null,
   "metadata": {
    "Collapsed": "false"
   },
   "outputs": [],
   "source": [
    "create_table(df.iloc[:, 0:800], 'mvinasco_acxiom_matched1', 'one_offs', engine, system='Redshift')"
   ]
  },
  {
   "cell_type": "code",
   "execution_count": null,
   "metadata": {
    "Collapsed": "false"
   },
   "outputs": [],
   "source": [
    "df1 = pd.concat([df.iloc[:, 0], df.iloc[:, 800:]], axis=1)"
   ]
  },
  {
   "cell_type": "code",
   "execution_count": null,
   "metadata": {
    "Collapsed": "false"
   },
   "outputs": [],
   "source": [
    "create_table(df1, 'mvinasco_acxiom2', 'one_offs', engine, system='Redshift')"
   ]
  },
  {
   "cell_type": "code",
   "execution_count": null,
   "metadata": {
    "Collapsed": "false"
   },
   "outputs": [],
   "source": []
  }
 ],
 "metadata": {
  "kernelspec": {
   "display_name": "Python 3",
   "language": "python",
   "name": "python3"
  },
  "language_info": {
   "codemirror_mode": {
    "name": "ipython",
    "version": 3
   },
   "file_extension": ".py",
   "mimetype": "text/x-python",
   "name": "python",
   "nbconvert_exporter": "python",
   "pygments_lexer": "ipython3",
   "version": "3.7.3"
  }
 },
 "nbformat": 4,
 "nbformat_minor": 4
}
