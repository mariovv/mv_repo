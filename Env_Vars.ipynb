{
 "cells": [
  {
   "cell_type": "code",
   "execution_count": 1,
   "id": "hawaiian-wilderness",
   "metadata": {},
   "outputs": [],
   "source": [
    "import pandas as pd"
   ]
  },
  {
   "cell_type": "code",
   "execution_count": 7,
   "id": "golden-ontario",
   "metadata": {},
   "outputs": [],
   "source": [
    "sheet_id = '1TpbLSrOXAssrMAJEcfI540xT7eRjkkV1l_uk2WJZsSk'\n",
    "sheet_name = 'test'\n",
    "url = f'https://docs.google.com/spreadsheets/d/{sheet_id}/gviz/tq?tqx=out:csv&sheet={sheet_name}'"
   ]
  },
  {
   "cell_type": "code",
   "execution_count": 21,
   "id": "crude-natural",
   "metadata": {},
   "outputs": [],
   "source": [
    "url2 = 'https://docs.google.com/spreadsheets/d/1lveMy_-bqJhFdES3vwajv8-DHASvplAypN1HDVX7--Q/edit?usp=sharing'"
   ]
  },
  {
   "cell_type": "code",
   "execution_count": null,
   "id": "shared-logic",
   "metadata": {},
   "outputs": [],
   "source": [
    "pd.read_csv(url2)"
   ]
  },
  {
   "cell_type": "markdown",
   "id": "941e59c8-895c-44bd-9f22-4b118b631cd9",
   "metadata": {},
   "source": [
    "##  Env  variables\n",
    "\n",
    "https://towardsdatascience.com/stop-hardcoding-sensitive-data-in-your-python-applications-86eb2a96bec3"
   ]
  },
  {
   "cell_type": "code",
   "execution_count": 2,
   "id": "196ed8bc-a8e3-48a3-955d-6e42e0cb7bec",
   "metadata": {},
   "outputs": [
    {
     "data": {
      "text/plain": [
       "environ{'ALLUSERSPROFILE': 'C:\\\\ProgramData',\n",
       "        'APPDATA': 'C:\\\\Users\\\\mvinasco\\\\AppData\\\\Roaming',\n",
       "        'COMMONPROGRAMFILES': 'C:\\\\Program Files\\\\Common Files',\n",
       "        'COMMONPROGRAMFILES(X86)': 'C:\\\\Program Files (x86)\\\\Common Files',\n",
       "        'COMMONPROGRAMW6432': 'C:\\\\Program Files\\\\Common Files',\n",
       "        'COMPUTERNAME': 'CSW-MVINASCO-11',\n",
       "        'COMSPEC': 'C:\\\\WINDOWS\\\\system32\\\\cmd.exe',\n",
       "        'CONDA_DEFAULT_ENV': 'base',\n",
       "        'CONDA_EXE': 'C:\\\\Users\\\\mvinasco\\\\Anaconda3\\\\Scripts\\\\conda.exe',\n",
       "        'CONDA_PROMPT_MODIFIER': '(base) ',\n",
       "        'CONDA_PYTHON_EXE': 'C:\\\\Users\\\\mvinasco\\\\Anaconda3\\\\python.exe',\n",
       "        'CONDA_ROOT': 'C:\\\\Users\\\\mvinasco\\\\Anaconda3',\n",
       "        'CONDA_SHLVL': '1',\n",
       "        'CONFIGSETROOT': 'C:\\\\WINDOWS\\\\ConfigSetRoot',\n",
       "        'DRIVERDATA': 'C:\\\\Windows\\\\System32\\\\Drivers\\\\DriverData',\n",
       "        'HOMEDRIVE': 'C:',\n",
       "        'HOMEPATH': '\\\\Users\\\\mvinasco',\n",
       "        'LOCALAPPDATA': 'C:\\\\Users\\\\mvinasco\\\\AppData\\\\Local',\n",
       "        'LOGONSERVER': '\\\\\\\\CHARMANDER',\n",
       "        'NUMBER_OF_PROCESSORS': '8',\n",
       "        'ONEDRIVE': 'C:\\\\Users\\\\mvinasco\\\\OneDrive',\n",
       "        'OS': 'Windows_NT',\n",
       "        'PATH': 'C:\\\\Users\\\\mvinasco\\\\Anaconda3;C:\\\\Users\\\\mvinasco\\\\Anaconda3\\\\Library\\\\mingw-w64\\\\bin;C:\\\\Users\\\\mvinasco\\\\Anaconda3\\\\Library\\\\usr\\\\bin;C:\\\\Users\\\\mvinasco\\\\Anaconda3\\\\Library\\\\bin;C:\\\\Users\\\\mvinasco\\\\Anaconda3\\\\Scripts;C:\\\\Users\\\\mvinasco\\\\Anaconda3\\\\bin;C:\\\\Users\\\\mvinasco\\\\Anaconda3\\\\condabin;C:\\\\Users\\\\mvinasco\\\\Anaconda3;C:\\\\Users\\\\mvinasco\\\\Anaconda3\\\\Library\\\\mingw-w64\\\\bin;C:\\\\Users\\\\mvinasco\\\\Anaconda3\\\\Library\\\\usr\\\\bin;C:\\\\Users\\\\mvinasco\\\\Anaconda3\\\\Library\\\\bin;C:\\\\Users\\\\mvinasco\\\\Anaconda3\\\\Scripts;C:\\\\Program Files (x86)\\\\Intel\\\\Intel(R) Management Engine Components\\\\iCLS;C:\\\\Program Files\\\\Intel\\\\Intel(R) Management Engine Components\\\\iCLS;C:\\\\WINDOWS\\\\system32;C:\\\\WINDOWS;C:\\\\WINDOWS\\\\System32\\\\Wbem;C:\\\\WINDOWS\\\\System32\\\\WindowsPowerShell\\\\v1.0;C:\\\\WINDOWS\\\\System32\\\\OpenSSH;C:\\\\Program Files (x86)\\\\Intel\\\\Intel(R) Management Engine Components\\\\DAL;C:\\\\Program Files\\\\Intel\\\\Intel(R) Management Engine Components\\\\DAL;C:\\\\Program Files\\\\PuTTY;C:\\\\Program Files\\\\Git\\\\cmd;C:\\\\Program Files\\\\Intel\\\\WiFi\\\\bin;C:\\\\Program Files\\\\Common Files\\\\Intel\\\\WirelessCommon;C:\\\\Program Files\\\\Amazon\\\\AWSCLIV2;C:\\\\Program Files\\\\dotnet;C:\\\\Users\\\\mvinasco\\\\AppData\\\\Local\\\\Microsoft\\\\WindowsApps;C:\\\\Users\\\\mvinasco\\\\AppData\\\\Local\\\\Programs\\\\Microsoft VS Code\\\\bin;C:\\\\Users\\\\mvinasco\\\\.dotnet\\\\tools',\n",
       "        'PATHEXT': '.COM;.EXE;.BAT;.CMD;.VBS;.VBE;.JS;.JSE;.WSF;.WSH;.MSC',\n",
       "        'PROCESSOR_ARCHITECTURE': 'AMD64',\n",
       "        'PROCESSOR_IDENTIFIER': 'Intel64 Family 6 Model 142 Stepping 10, GenuineIntel',\n",
       "        'PROCESSOR_LEVEL': '6',\n",
       "        'PROCESSOR_REVISION': '8e0a',\n",
       "        'PROGRAMDATA': 'C:\\\\ProgramData',\n",
       "        'PROGRAMFILES': 'C:\\\\Program Files',\n",
       "        'PROGRAMFILES(X86)': 'C:\\\\Program Files (x86)',\n",
       "        'PROGRAMW6432': 'C:\\\\Program Files',\n",
       "        'PROMPT': '(base) $P$G',\n",
       "        'PSMODULEPATH': 'C:\\\\Program Files\\\\WindowsPowerShell\\\\Modules;C:\\\\WINDOWS\\\\system32\\\\WindowsPowerShell\\\\v1.0\\\\Modules',\n",
       "        'PUBLIC': 'C:\\\\Users\\\\Public',\n",
       "        'SYSTEMDRIVE': 'C:',\n",
       "        'SYSTEMROOT': 'C:\\\\WINDOWS',\n",
       "        'TEMP': 'C:\\\\Users\\\\mvinasco\\\\AppData\\\\Local\\\\Temp',\n",
       "        'TMP': 'C:\\\\Users\\\\mvinasco\\\\AppData\\\\Local\\\\Temp',\n",
       "        'USERDNSDOMAIN': 'hq.creditsesame.com',\n",
       "        'USERDOMAIN': 'HQ',\n",
       "        'USERDOMAIN_ROAMINGPROFILE': 'HQ',\n",
       "        'USERNAME': 'mvinasco',\n",
       "        'USERPROFILE': 'C:\\\\Users\\\\mvinasco',\n",
       "        'WINDIR': 'C:\\\\WINDOWS',\n",
       "        'ZES_ENABLE_SYSMAN': '1',\n",
       "        '__PSLOCKDOWNPOLICY': '0',\n",
       "        'CONDA_PREFIX': 'C:\\\\Users\\\\mvinasco\\\\Anaconda3',\n",
       "        'JPY_INTERRUPT_EVENT': '4092',\n",
       "        'IPY_INTERRUPT_EVENT': '4092',\n",
       "        'JPY_PARENT_PID': '4048',\n",
       "        'TERM': 'xterm-color',\n",
       "        'CLICOLOR': '1',\n",
       "        'PAGER': 'cat',\n",
       "        'GIT_PAGER': 'cat',\n",
       "        'MPLBACKEND': 'module://matplotlib_inline.backend_inline'}"
      ]
     },
     "execution_count": 2,
     "metadata": {},
     "output_type": "execute_result"
    }
   ],
   "source": [
    "import os\n",
    "\n",
    "# this returns a dictionary of environment variables\n",
    "os.environ\n"
   ]
  },
  {
   "cell_type": "code",
   "execution_count": 3,
   "id": "c7635a1b-9ec3-41cc-a376-520b4c934807",
   "metadata": {},
   "outputs": [
    {
     "data": {
      "text/plain": [
       "'\\\\Users\\\\mvinasco'"
      ]
     },
     "execution_count": 3,
     "metadata": {},
     "output_type": "execute_result"
    }
   ],
   "source": [
    "# You can use it to access a specific environment variable\n",
    "os.environ[\"HOMEPATH\"]"
   ]
  },
  {
   "cell_type": "code",
   "execution_count": 4,
   "id": "4a2db820-f0e1-48be-9522-a049be902010",
   "metadata": {},
   "outputs": [
    {
     "data": {
      "text/plain": [
       "'/home/'"
      ]
     },
     "execution_count": 4,
     "metadata": {},
     "output_type": "execute_result"
    }
   ],
   "source": [
    "# or you can use the getenv method (it allows to set a default value if the environment variable is not found)\n",
    "os.getenv(\"HOME\", \"/home/\")"
   ]
  },
  {
   "cell_type": "code",
   "execution_count": 5,
   "id": "37a7f22e-9834-403e-9f03-2d1597272188",
   "metadata": {},
   "outputs": [],
   "source": [
    "# You can also set a new environment variable by adding a key/value pair\n",
    "os.environ[\"Cowrk\"] = \"Mali\""
   ]
  },
  {
   "cell_type": "code",
   "execution_count": 6,
   "id": "0a3f666d-4dd3-409d-8b25-8791f5b45f4a",
   "metadata": {},
   "outputs": [
    {
     "data": {
      "text/plain": [
       "'Mali'"
      ]
     },
     "execution_count": 6,
     "metadata": {},
     "output_type": "execute_result"
    }
   ],
   "source": [
    "os.environ[\"Cowrk\"]"
   ]
  },
  {
   "cell_type": "raw",
   "id": "2b946795-77fe-4403-b7a6-d91687ae528f",
   "metadata": {},
   "source": [
    ".env files are, first of all, text files that contain key/value pairs of all the environment variables required by your application.\n",
    "They enable you to use environment variables without polluting the global environment namespace. In fact, each separate project can have its own .env file."
   ]
  },
  {
   "cell_type": "code",
   "execution_count": 7,
   "id": "8361df36-61a8-4983-be23-29ee853a335a",
   "metadata": {},
   "outputs": [
    {
     "ename": "NameError",
     "evalue": "name 'my' is not defined",
     "output_type": "error",
     "traceback": [
      "\u001b[1;31m---------------------------------------------------------------------------\u001b[0m",
      "\u001b[1;31mNameError\u001b[0m                                 Traceback (most recent call last)",
      "\u001b[1;32m~\\AppData\\Local\\Temp/ipykernel_24196/1916071181.py\u001b[0m in \u001b[0;36m<module>\u001b[1;34m\u001b[0m\n\u001b[1;32m----> 1\u001b[1;33m \u001b[0mPROJECT_ID\u001b[0m\u001b[1;33m=\u001b[0m\u001b[0mmy\u001b[0m\u001b[1;33m-\u001b[0m\u001b[0mawesome\u001b[0m\u001b[1;33m-\u001b[0m\u001b[0mproject\u001b[0m\u001b[1;33m\u001b[0m\u001b[1;33m\u001b[0m\u001b[0m\n\u001b[0m\u001b[0;32m      2\u001b[0m \u001b[0mAPI_KEY\u001b[0m\u001b[1;33m=\u001b[0m\u001b[0mpath\u001b[0m\u001b[1;33m/\u001b[0m\u001b[0mto\u001b[0m\u001b[1;33m/\u001b[0m\u001b[0mkey\u001b[0m\u001b[1;33m\u001b[0m\u001b[1;33m\u001b[0m\u001b[0m\n\u001b[0;32m      3\u001b[0m \u001b[0mSTORAGE_BUCKET\u001b[0m\u001b[1;33m=\u001b[0m\u001b[0mmy\u001b[0m\u001b[1;33m-\u001b[0m\u001b[0mawesome\u001b[0m\u001b[1;33m-\u001b[0m\u001b[0mbucket\u001b[0m\u001b[1;33m\u001b[0m\u001b[1;33m\u001b[0m\u001b[0m\n",
      "\u001b[1;31mNameError\u001b[0m: name 'my' is not defined"
     ]
    }
   ],
   "source": [
    "PROJECT_ID=my-awesome-project\n",
    "API_KEY=path/to/key\n",
    "STORAGE_BUCKET=my-awesome-bucket"
   ]
  },
  {
   "cell_type": "raw",
   "id": "2dfd010a-01c8-4c1a-835c-8e5370acefc9",
   "metadata": {},
   "source": [
    ".env files are usually put at the root of a project. To access the values that are listed in them, you need to install the python-dotenv library."
   ]
  },
  {
   "cell_type": "code",
   "execution_count": null,
   "id": "e6105d4a-e9a3-4120-a234-3efa62952f49",
   "metadata": {},
   "outputs": [],
   "source": [
    "! pip install python-dotenv"
   ]
  },
  {
   "cell_type": "code",
   "execution_count": 8,
   "id": "bd95515f-ca15-4555-9dc7-b795693ec1d8",
   "metadata": {},
   "outputs": [
    {
     "ename": "ModuleNotFoundError",
     "evalue": "No module named 'dotenv'",
     "output_type": "error",
     "traceback": [
      "\u001b[1;31m---------------------------------------------------------------------------\u001b[0m",
      "\u001b[1;31mModuleNotFoundError\u001b[0m                       Traceback (most recent call last)",
      "\u001b[1;32m~\\AppData\\Local\\Temp/ipykernel_24196/2346074917.py\u001b[0m in \u001b[0;36m<module>\u001b[1;34m\u001b[0m\n\u001b[0;32m      1\u001b[0m \u001b[1;32mimport\u001b[0m \u001b[0mos\u001b[0m\u001b[1;33m\u001b[0m\u001b[1;33m\u001b[0m\u001b[0m\n\u001b[1;32m----> 2\u001b[1;33m \u001b[1;32mfrom\u001b[0m \u001b[0mdotenv\u001b[0m \u001b[1;32mimport\u001b[0m \u001b[0mload_dotenv\u001b[0m\u001b[1;33m\u001b[0m\u001b[1;33m\u001b[0m\u001b[0m\n\u001b[0m\u001b[0;32m      3\u001b[0m \u001b[1;33m\u001b[0m\u001b[0m\n\u001b[0;32m      4\u001b[0m \u001b[1;31m# load_dotenv will look for a .env file and if it finds one\u001b[0m\u001b[1;33m\u001b[0m\u001b[1;33m\u001b[0m\u001b[1;33m\u001b[0m\u001b[0m\n\u001b[0;32m      5\u001b[0m \u001b[1;31m# it will load the environment variables from it\u001b[0m\u001b[1;33m\u001b[0m\u001b[1;33m\u001b[0m\u001b[1;33m\u001b[0m\u001b[0m\n",
      "\u001b[1;31mModuleNotFoundError\u001b[0m: No module named 'dotenv'"
     ]
    }
   ],
   "source": [
    "import os\n",
    "from dotenv import load_dotenv\n",
    "\n",
    "# load_dotenv will look for a .env file and if it finds one \n",
    "# it will load the environment variables from it\n",
    "\n",
    "load_dotenv()\n",
    "\n",
    "PROJECT_ID = os.getenv(\"PROJECT_ID\")\n",
    "API_KEY = os.getenv(\"API_KEY\")\n",
    "STORAGE_BUCKET= os.getenv(\"STORAGE_BUCKET\")"
   ]
  },
  {
   "cell_type": "raw",
   "id": "e3ff83a3-1f96-486f-ad45-2215407a3207",
   "metadata": {},
   "source": [
    "An easy way to avoid this unwanted situation is to add .envto your .gitignorefile:\n",
    ".env"
   ]
  },
  {
   "cell_type": "code",
   "execution_count": null,
   "id": "2c56113c-1557-43ce-8ac6-39a2032890a5",
   "metadata": {},
   "outputs": [],
   "source": []
  }
 ],
 "metadata": {
  "kernelspec": {
   "display_name": "Python 3 (ipykernel)",
   "language": "python",
   "name": "python3"
  },
  "language_info": {
   "codemirror_mode": {
    "name": "ipython",
    "version": 3
   },
   "file_extension": ".py",
   "mimetype": "text/x-python",
   "name": "python",
   "nbconvert_exporter": "python",
   "pygments_lexer": "ipython3",
   "version": "3.8.10"
  }
 },
 "nbformat": 4,
 "nbformat_minor": 5
}
