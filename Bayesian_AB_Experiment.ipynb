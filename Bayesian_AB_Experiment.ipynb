{
 "cells": [
  {
   "cell_type": "markdown",
   "id": "requested-receipt",
   "metadata": {},
   "source": [
    "# A|B Testing Template\n",
    " Roolout Experiments\n",
    " \n",
    " background: \n",
    " - https://towardsdatascience.com/bayesian-a-b-testing-with-python-the-easy-guide-d638f89e0b8a\n",
    " - https://www.crosstab.io/articles/staged-rollout-analysis\n",
    " \n",
    " "
   ]
  },
  {
   "cell_type": "markdown",
   "id": "silver-announcement",
   "metadata": {
    "heading_collapsed": "true"
   },
   "source": [
    "## Python Libraries"
   ]
  },
  {
   "cell_type": "code",
   "execution_count": 3,
   "id": "persistent-minneapolis",
   "metadata": {},
   "outputs": [],
   "source": [
    "import pandas as pd\n",
    "\n",
    "import sys\n",
    "sys.path.append('C:/Users\\mvinasco/Documents/utilities')\n",
    "import connect_redshift as crs\n",
    "engine = crs.RedShift_engine()\n",
    "\n",
    "import sqlalchemy\n",
    "\n",
    "import numpy as np"
   ]
  },
  {
   "cell_type": "code",
   "execution_count": 6,
   "id": "turkish-logic",
   "metadata": {},
   "outputs": [],
   "source": [
    "import xlwings as xw\n",
    "\n",
    "def writes_df_excel(sht, df, rangename):\n",
    "    # clears existing data\n",
    "    x0 = sht.range('A1').end('down')\n",
    "    y0 = sht.range('A1').end('right')\n",
    "    sht.range(x0,y0).clear()\n",
    "\n",
    "    sht.range('A1').options(index=False).value  = df\n",
    "    tbl_range = sht.range(\"A1\").expand('table')\n",
    "    sht.api.ListObjects.Add(1, sht.api.Range(tbl_range.address))\n",
    "    \n",
    "    sht.range(tbl_range).expand().name = rangename"
   ]
  },
  {
   "cell_type": "code",
   "execution_count": 16,
   "id": "prescription-september",
   "metadata": {},
   "outputs": [],
   "source": [
    "from scipy.stats import beta\n",
    "import numpy as np\n",
    "from calc_prob import calc_prob_between"
   ]
  },
  {
   "cell_type": "markdown",
   "id": "occasional-italic",
   "metadata": {
    "heading_collapsed": "true"
   },
   "source": [
    "## Data Classes"
   ]
  },
  {
   "cell_type": "code",
   "execution_count": 1,
   "id": "possible-casting",
   "metadata": {},
   "outputs": [],
   "source": [
    "from dataclasses import dataclass\n",
    "\n",
    "@dataclass\n",
    "class Experiment:\n",
    "    Campaign_name: str\n",
    "    Camp_description: str\n",
    "    Campaign_API_Identifier: str\n",
    "    control_id: str\n",
    "    variant_id1_name: str\n",
    "    variant_id1: str\n",
    "    send_date: str\n",
    "\n",
    "# Email campaigns\n",
    "# default braze tables\n",
    "\n",
    "Campaign1 = Experiment(\n",
    "    'enrolled_customers',\n",
    "    \"Retroactive_Campaign2\",\n",
    "    'fc78aabd-ace5-4dd0-b5a7-71cb1aaf65b5',\n",
    "    'b3c930e3-c438-41b2-9fd2-1feebda39b12',\n",
    "    'Morpheus',\n",
    "    '86fffc3b-7de1-4f0e-a6c5-42d94e3693fa',\n",
    "     \"2021-02-01\"\n",
    ")\n"
   ]
  },
  {
   "cell_type": "markdown",
   "id": "sticky-porcelain",
   "metadata": {
    "heading_collapsed": "true"
   },
   "source": [
    "## Query"
   ]
  },
  {
   "cell_type": "code",
   "execution_count": 4,
   "id": "severe-harmony",
   "metadata": {},
   "outputs": [],
   "source": [
    "query1 = f\"\"\"\n",
    "\n",
    "with send_data AS (\n",
    "        select usertoken, sl.campaign_name campaign_name_email, \n",
    "        date_trunc('day',sl.send_date) send_date_email,\n",
    "        mailing_id,\n",
    "    case sl.message_id\n",
    "        when '{Campaign1.variant_id1}' then '{Campaign1.variant_id1_name}'\n",
    "        else 'other'\n",
    "    end as variant_name_email\n",
    "    \n",
    "from email_ops.strongview_email_send_log sl\n",
    "where sl.campaign_id IN ('{Campaign1.Campaign_API_Identifier}')\n",
    "and sl.send_date >= '{Campaign1.send_date}'\n",
    "\n",
    "\n",
    "UNION ALL\n",
    "\n",
    "select user_token as usertoken, campaign_name campaign_name_email, \n",
    "      date_trunc('day', event_datetime)  as send_date_email,\n",
    "      '' as mailing_id,\n",
    "        'control_group' as variant_name_email\n",
    "    from email_ops.braze_email_enroll_in_control\n",
    "where campaign_id IN ('{Campaign1.Campaign_API_Identifier}')\n",
    "\n",
    "),\n",
    "\n",
    "cash_enrolled as (\n",
    "    select c.usertoken,\n",
    "           enrollment_timestamp::date as enrollment_timestamp,\n",
    "           convert_timezone('America/Los_Angeles', enrollment_timestamp) as enrollment_timestamp_pt\n",
    "    from sesame_cash.sesame_cash_enrollment enr\n",
    "    join send_data c\n",
    "        using(usertoken)\n",
    "    where enrollment_status = 'REGISTERED'\n",
    "        and effective_end_datetime = '2100-01-01'\n",
    "        and enrollment_timestamp >= '{Campaign1.send_date}'\n",
    "),\n",
    "\n",
    "funded_users as (\n",
    "        select p.usertoken,\n",
    "               min(date_trunc('day',transaction_datetime)) as funding_date\n",
    "        from sesame_cash.posted_transaction p\n",
    "        join send_data c\n",
    "        using(usertoken)\n",
    "        where p.transaction_classification_group = 'Money Load'\n",
    "        and transaction_datetime >=  '{Campaign1.send_date}'\n",
    "        group by 1\n",
    "    ),\n",
    "    \n",
    "retention as (\n",
    "    select mau.usertoken, mau.activity_month_los_angeles\n",
    "    from send_data c\n",
    "    join measures.monthly_active_users mau\n",
    "        using(usertoken)\n",
    "   \n",
    "    where mau.activity_month_los_angeles = date_trunc('month', dateadd(month,1, '{Campaign1.send_date}'))   \n",
    "),\n",
    "\n",
    "clk_apply as (\n",
    "             select si.usertoken,  \n",
    "                    count(distinct si.mailing_id) as sends,\n",
    "                    count(distinct c.clickid) AS Click_Apply\n",
    "             from send_data si\n",
    "             left outer join public.click_applies_properties c\n",
    "                on si.usertoken = c.usertoken\n",
    "                and  COALESCE(c.mailing_id,\n",
    "                             SUBSTRING(c.ref_code, LEN(c.ref_code) - position('_' in reverse(ref_code)) + 2,\n",
    "                                       50))  = si.mailing_id\n",
    "                 and  date_trunc('month', c.createdate) >= '{Campaign1.send_date}'\n",
    "            group by 1 )\n",
    "    \n",
    "select * \n",
    "from send_data sd\n",
    "left outer join funded_users using(usertoken)\n",
    "left outer join cash_enrolled using(usertoken)\n",
    "left outer join retention using(usertoken)\n",
    "left outer join clk_apply using(usertoken)\n",
    "\"\"\"\n"
   ]
  },
  {
   "cell_type": "markdown",
   "id": "raising-salmon",
   "metadata": {
    "heading_collapsed": "true"
   },
   "source": [
    "## Execute SQL"
   ]
  },
  {
   "cell_type": "code",
   "execution_count": 5,
   "id": "incorporated-handbook",
   "metadata": {},
   "outputs": [
    {
     "data": {
      "text/html": [
       "<div>\n",
       "<style scoped>\n",
       "    .dataframe tbody tr th:only-of-type {\n",
       "        vertical-align: middle;\n",
       "    }\n",
       "\n",
       "    .dataframe tbody tr th {\n",
       "        vertical-align: top;\n",
       "    }\n",
       "\n",
       "    .dataframe thead th {\n",
       "        text-align: right;\n",
       "    }\n",
       "</style>\n",
       "<table border=\"1\" class=\"dataframe\">\n",
       "  <thead>\n",
       "    <tr style=\"text-align: right;\">\n",
       "      <th></th>\n",
       "      <th>usertoken</th>\n",
       "      <th>campaign_name_email</th>\n",
       "      <th>send_date_email</th>\n",
       "      <th>mailing_id</th>\n",
       "      <th>variant_name_email</th>\n",
       "      <th>funding_date</th>\n",
       "      <th>enrollment_timestamp</th>\n",
       "      <th>enrollment_timestamp_pt</th>\n",
       "      <th>activity_month_los_angeles</th>\n",
       "      <th>sends</th>\n",
       "      <th>click_apply</th>\n",
       "    </tr>\n",
       "  </thead>\n",
       "  <tbody>\n",
       "    <tr>\n",
       "      <th>0</th>\n",
       "      <td>871b99f8-1620-4808-befc-586516925d25</td>\n",
       "      <td>f - CASH - Enroll - Retroactive $10 - Feb 2021</td>\n",
       "      <td>2021-02-04</td>\n",
       "      <td>b44fced3261b6caac5753012d0efc682</td>\n",
       "      <td>Morpheus</td>\n",
       "      <td>NaT</td>\n",
       "      <td>None</td>\n",
       "      <td>NaT</td>\n",
       "      <td>2021-03-01</td>\n",
       "      <td>1</td>\n",
       "      <td>0</td>\n",
       "    </tr>\n",
       "    <tr>\n",
       "      <th>1</th>\n",
       "      <td>871b99f8-1620-4808-befc-586516925d25</td>\n",
       "      <td>f - CASH - Enroll - Retroactive $10 - Feb 2021</td>\n",
       "      <td>2021-02-04</td>\n",
       "      <td>b44fced3261b6caac5753012d0efc682</td>\n",
       "      <td>Morpheus</td>\n",
       "      <td>NaT</td>\n",
       "      <td>None</td>\n",
       "      <td>NaT</td>\n",
       "      <td>2021-03-01</td>\n",
       "      <td>1</td>\n",
       "      <td>0</td>\n",
       "    </tr>\n",
       "    <tr>\n",
       "      <th>2</th>\n",
       "      <td>ba641aa6-1305-413e-8332-76e0751b939b</td>\n",
       "      <td>f - CASH - Enroll - Retroactive $10 - Feb 2021</td>\n",
       "      <td>2021-02-04</td>\n",
       "      <td>b44fced3261b6caac5753012d0efc682</td>\n",
       "      <td>Morpheus</td>\n",
       "      <td>NaT</td>\n",
       "      <td>None</td>\n",
       "      <td>NaT</td>\n",
       "      <td>2021-03-01</td>\n",
       "      <td>1</td>\n",
       "      <td>0</td>\n",
       "    </tr>\n",
       "    <tr>\n",
       "      <th>3</th>\n",
       "      <td>b3ef1781-95eb-464f-a4c3-3778e0229945</td>\n",
       "      <td>f - CASH - Enroll - Retroactive $10 - Feb 2021</td>\n",
       "      <td>2021-02-04</td>\n",
       "      <td>b44fced3261b6caac5753012d0efc682</td>\n",
       "      <td>other</td>\n",
       "      <td>NaT</td>\n",
       "      <td>None</td>\n",
       "      <td>NaT</td>\n",
       "      <td>NaT</td>\n",
       "      <td>1</td>\n",
       "      <td>0</td>\n",
       "    </tr>\n",
       "    <tr>\n",
       "      <th>4</th>\n",
       "      <td>a455334c-0770-4989-9b90-0bfce94e9507</td>\n",
       "      <td>f - CASH - Enroll - Retroactive $10 - Feb 2021</td>\n",
       "      <td>2021-02-04</td>\n",
       "      <td>b44fced3261b6caac5753012d0efc682</td>\n",
       "      <td>other</td>\n",
       "      <td>NaT</td>\n",
       "      <td>None</td>\n",
       "      <td>NaT</td>\n",
       "      <td>2021-03-01</td>\n",
       "      <td>1</td>\n",
       "      <td>0</td>\n",
       "    </tr>\n",
       "  </tbody>\n",
       "</table>\n",
       "</div>"
      ],
      "text/plain": [
       "                              usertoken  \\\n",
       "0  871b99f8-1620-4808-befc-586516925d25   \n",
       "1  871b99f8-1620-4808-befc-586516925d25   \n",
       "2  ba641aa6-1305-413e-8332-76e0751b939b   \n",
       "3  b3ef1781-95eb-464f-a4c3-3778e0229945   \n",
       "4  a455334c-0770-4989-9b90-0bfce94e9507   \n",
       "\n",
       "                              campaign_name_email send_date_email  \\\n",
       "0  f - CASH - Enroll - Retroactive $10 - Feb 2021      2021-02-04   \n",
       "1  f - CASH - Enroll - Retroactive $10 - Feb 2021      2021-02-04   \n",
       "2  f - CASH - Enroll - Retroactive $10 - Feb 2021      2021-02-04   \n",
       "3  f - CASH - Enroll - Retroactive $10 - Feb 2021      2021-02-04   \n",
       "4  f - CASH - Enroll - Retroactive $10 - Feb 2021      2021-02-04   \n",
       "\n",
       "                         mailing_id variant_name_email funding_date  \\\n",
       "0  b44fced3261b6caac5753012d0efc682           Morpheus          NaT   \n",
       "1  b44fced3261b6caac5753012d0efc682           Morpheus          NaT   \n",
       "2  b44fced3261b6caac5753012d0efc682           Morpheus          NaT   \n",
       "3  b44fced3261b6caac5753012d0efc682              other          NaT   \n",
       "4  b44fced3261b6caac5753012d0efc682              other          NaT   \n",
       "\n",
       "  enrollment_timestamp enrollment_timestamp_pt activity_month_los_angeles  \\\n",
       "0                 None                     NaT                 2021-03-01   \n",
       "1                 None                     NaT                 2021-03-01   \n",
       "2                 None                     NaT                 2021-03-01   \n",
       "3                 None                     NaT                        NaT   \n",
       "4                 None                     NaT                 2021-03-01   \n",
       "\n",
       "   sends  click_apply  \n",
       "0      1            0  \n",
       "1      1            0  \n",
       "2      1            0  \n",
       "3      1            0  \n",
       "4      1            0  "
      ]
     },
     "execution_count": 5,
     "metadata": {},
     "output_type": "execute_result"
    }
   ],
   "source": [
    "experm_df = pd.read_sql_query(sqlalchemy.text(query1), engine)\n",
    "experm_df.head()"
   ]
  },
  {
   "cell_type": "code",
   "execution_count": 9,
   "id": "loaded-miller",
   "metadata": {},
   "outputs": [
    {
     "data": {
      "text/html": [
       "<div>\n",
       "<style scoped>\n",
       "    .dataframe tbody tr th:only-of-type {\n",
       "        vertical-align: middle;\n",
       "    }\n",
       "\n",
       "    .dataframe tbody tr th {\n",
       "        vertical-align: top;\n",
       "    }\n",
       "\n",
       "    .dataframe thead th {\n",
       "        text-align: right;\n",
       "    }\n",
       "</style>\n",
       "<table border=\"1\" class=\"dataframe\">\n",
       "  <thead>\n",
       "    <tr style=\"text-align: right;\">\n",
       "      <th></th>\n",
       "      <th></th>\n",
       "      <th>usertoken</th>\n",
       "    </tr>\n",
       "    <tr>\n",
       "      <th>campaign_name_email</th>\n",
       "      <th>variant_name_email</th>\n",
       "      <th></th>\n",
       "    </tr>\n",
       "  </thead>\n",
       "  <tbody>\n",
       "    <tr>\n",
       "      <th rowspan=\"3\" valign=\"top\">f - CASH - Enroll - Retroactive $10 - Feb 2021</th>\n",
       "      <th>Morpheus</th>\n",
       "      <td>114760</td>\n",
       "    </tr>\n",
       "    <tr>\n",
       "      <th>control_group</th>\n",
       "      <td>57113</td>\n",
       "    </tr>\n",
       "    <tr>\n",
       "      <th>other</th>\n",
       "      <td>113907</td>\n",
       "    </tr>\n",
       "  </tbody>\n",
       "</table>\n",
       "</div>"
      ],
      "text/plain": [
       "                                                                   usertoken\n",
       "campaign_name_email                            variant_name_email           \n",
       "f - CASH - Enroll - Retroactive $10 - Feb 2021 Morpheus               114760\n",
       "                                               control_group           57113\n",
       "                                               other                  113907"
      ]
     },
     "execution_count": 9,
     "metadata": {},
     "output_type": "execute_result"
    }
   ],
   "source": [
    "pd.pivot_table(experm_df, index=['campaign_name_email', 'variant_name_email'], values='usertoken',\n",
    "              aggfunc='count')"
   ]
  },
  {
   "cell_type": "markdown",
   "id": "cheap-garbage",
   "metadata": {
    "heading_collapsed": "true"
   },
   "source": [
    "# Data Exploration"
   ]
  },
  {
   "cell_type": "code",
   "execution_count": 10,
   "id": "uniform-norway",
   "metadata": {},
   "outputs": [],
   "source": [
    "experm_df2= experm_df[experm_df['variant_name_email'] != 'other']"
   ]
  },
  {
   "cell_type": "code",
   "execution_count": 11,
   "id": "loving-reputation",
   "metadata": {},
   "outputs": [
    {
     "data": {
      "text/html": [
       "<div>\n",
       "<style scoped>\n",
       "    .dataframe tbody tr th:only-of-type {\n",
       "        vertical-align: middle;\n",
       "    }\n",
       "\n",
       "    .dataframe tbody tr th {\n",
       "        vertical-align: top;\n",
       "    }\n",
       "\n",
       "    .dataframe thead th {\n",
       "        text-align: right;\n",
       "    }\n",
       "</style>\n",
       "<table border=\"1\" class=\"dataframe\">\n",
       "  <thead>\n",
       "    <tr style=\"text-align: right;\">\n",
       "      <th></th>\n",
       "      <th></th>\n",
       "      <th>usertoken</th>\n",
       "    </tr>\n",
       "    <tr>\n",
       "      <th>campaign_name_email</th>\n",
       "      <th>variant_name_email</th>\n",
       "      <th></th>\n",
       "    </tr>\n",
       "  </thead>\n",
       "  <tbody>\n",
       "    <tr>\n",
       "      <th rowspan=\"2\" valign=\"top\">f - CASH - Enroll - Retroactive $10 - Feb 2021</th>\n",
       "      <th>Morpheus</th>\n",
       "      <td>114760</td>\n",
       "    </tr>\n",
       "    <tr>\n",
       "      <th>control_group</th>\n",
       "      <td>57113</td>\n",
       "    </tr>\n",
       "  </tbody>\n",
       "</table>\n",
       "</div>"
      ],
      "text/plain": [
       "                                                                   usertoken\n",
       "campaign_name_email                            variant_name_email           \n",
       "f - CASH - Enroll - Retroactive $10 - Feb 2021 Morpheus               114760\n",
       "                                               control_group           57113"
      ]
     },
     "execution_count": 11,
     "metadata": {},
     "output_type": "execute_result"
    }
   ],
   "source": [
    "users_pt = pd.pivot_table(experm_df2, index=['campaign_name_email', 'variant_name_email'], values='usertoken', \n",
    "               aggfunc='count', fill_value=0, dropna=False)\n",
    "users_pt"
   ]
  },
  {
   "cell_type": "code",
   "execution_count": 12,
   "id": "opponent-entrepreneur",
   "metadata": {},
   "outputs": [
    {
     "data": {
      "text/html": [
       "<div>\n",
       "<style scoped>\n",
       "    .dataframe tbody tr th:only-of-type {\n",
       "        vertical-align: middle;\n",
       "    }\n",
       "\n",
       "    .dataframe tbody tr th {\n",
       "        vertical-align: top;\n",
       "    }\n",
       "\n",
       "    .dataframe thead th {\n",
       "        text-align: right;\n",
       "    }\n",
       "</style>\n",
       "<table border=\"1\" class=\"dataframe\">\n",
       "  <thead>\n",
       "    <tr style=\"text-align: right;\">\n",
       "      <th></th>\n",
       "      <th></th>\n",
       "      <th>usertoken</th>\n",
       "    </tr>\n",
       "    <tr>\n",
       "      <th>campaign_name_email</th>\n",
       "      <th>variant_name_email</th>\n",
       "      <th></th>\n",
       "    </tr>\n",
       "  </thead>\n",
       "  <tbody>\n",
       "    <tr>\n",
       "      <th rowspan=\"2\" valign=\"top\">f - CASH - Enroll - Retroactive $10 - Feb 2021</th>\n",
       "      <th>Morpheus</th>\n",
       "      <td>4768</td>\n",
       "    </tr>\n",
       "    <tr>\n",
       "      <th>control_group</th>\n",
       "      <td>1856</td>\n",
       "    </tr>\n",
       "  </tbody>\n",
       "</table>\n",
       "</div>"
      ],
      "text/plain": [
       "                                                                   usertoken\n",
       "campaign_name_email                            variant_name_email           \n",
       "f - CASH - Enroll - Retroactive $10 - Feb 2021 Morpheus                 4768\n",
       "                                               control_group            1856"
      ]
     },
     "execution_count": 12,
     "metadata": {},
     "output_type": "execute_result"
    }
   ],
   "source": [
    "enrolled_df = (experm_df2[experm_df2['enrollment_timestamp'].notnull()])\n",
    "enrolled_pt = pd.pivot_table(enrolled_df,  index=['campaign_name_email', 'variant_name_email'], \n",
    "                             values='usertoken', aggfunc='count')\n",
    "enrolled_pt"
   ]
  },
  {
   "cell_type": "code",
   "execution_count": 78,
   "id": "painted-referral",
   "metadata": {},
   "outputs": [
    {
     "data": {
      "text/html": [
       "<div>\n",
       "<style scoped>\n",
       "    .dataframe tbody tr th:only-of-type {\n",
       "        vertical-align: middle;\n",
       "    }\n",
       "\n",
       "    .dataframe tbody tr th {\n",
       "        vertical-align: top;\n",
       "    }\n",
       "\n",
       "    .dataframe thead th {\n",
       "        text-align: right;\n",
       "    }\n",
       "</style>\n",
       "<table border=\"1\" class=\"dataframe\">\n",
       "  <thead>\n",
       "    <tr style=\"text-align: right;\">\n",
       "      <th></th>\n",
       "      <th></th>\n",
       "      <th>usertoken</th>\n",
       "    </tr>\n",
       "    <tr>\n",
       "      <th>campaign_name_email</th>\n",
       "      <th>variant_name_email</th>\n",
       "      <th></th>\n",
       "    </tr>\n",
       "  </thead>\n",
       "  <tbody>\n",
       "    <tr>\n",
       "      <th rowspan=\"2\" valign=\"top\">f - CASH - Enroll - Retroactive $10 - Feb 2021</th>\n",
       "      <th>Morpheus</th>\n",
       "      <td>0.041548</td>\n",
       "    </tr>\n",
       "    <tr>\n",
       "      <th>control_group</th>\n",
       "      <td>0.032497</td>\n",
       "    </tr>\n",
       "  </tbody>\n",
       "</table>\n",
       "</div>"
      ],
      "text/plain": [
       "                                                                   usertoken\n",
       "campaign_name_email                            variant_name_email           \n",
       "f - CASH - Enroll - Retroactive $10 - Feb 2021 Morpheus             0.041548\n",
       "                                               control_group        0.032497"
      ]
     },
     "execution_count": 78,
     "metadata": {},
     "output_type": "execute_result"
    }
   ],
   "source": [
    "enrolled_pt / users_pt.values"
   ]
  },
  {
   "cell_type": "code",
   "execution_count": 13,
   "id": "fiscal-license",
   "metadata": {},
   "outputs": [
    {
     "data": {
      "text/html": [
       "<div>\n",
       "<style scoped>\n",
       "    .dataframe tbody tr th:only-of-type {\n",
       "        vertical-align: middle;\n",
       "    }\n",
       "\n",
       "    .dataframe tbody tr th {\n",
       "        vertical-align: top;\n",
       "    }\n",
       "\n",
       "    .dataframe thead th {\n",
       "        text-align: right;\n",
       "    }\n",
       "</style>\n",
       "<table border=\"1\" class=\"dataframe\">\n",
       "  <thead>\n",
       "    <tr style=\"text-align: right;\">\n",
       "      <th></th>\n",
       "      <th></th>\n",
       "      <th>usertoken</th>\n",
       "    </tr>\n",
       "    <tr>\n",
       "      <th>campaign_name_email</th>\n",
       "      <th>variant_name_email</th>\n",
       "      <th></th>\n",
       "    </tr>\n",
       "  </thead>\n",
       "  <tbody>\n",
       "    <tr>\n",
       "      <th rowspan=\"2\" valign=\"top\">f - CASH - Enroll - Retroactive $10 - Feb 2021</th>\n",
       "      <th>Morpheus</th>\n",
       "      <td>930</td>\n",
       "    </tr>\n",
       "    <tr>\n",
       "      <th>control_group</th>\n",
       "      <td>247</td>\n",
       "    </tr>\n",
       "  </tbody>\n",
       "</table>\n",
       "</div>"
      ],
      "text/plain": [
       "                                                                   usertoken\n",
       "campaign_name_email                            variant_name_email           \n",
       "f - CASH - Enroll - Retroactive $10 - Feb 2021 Morpheus                  930\n",
       "                                               control_group             247"
      ]
     },
     "execution_count": 13,
     "metadata": {},
     "output_type": "execute_result"
    }
   ],
   "source": [
    "fund_df = (experm_df2[experm_df2['funding_date'].notnull()])\n",
    "fund_pt = pd.pivot_table(fund_df,  index=['campaign_name_email', 'variant_name_email'], \n",
    "                         values='usertoken', aggfunc='count')\n",
    "fund_pt"
   ]
  },
  {
   "cell_type": "code",
   "execution_count": 79,
   "id": "worth-vulnerability",
   "metadata": {},
   "outputs": [
    {
     "data": {
      "text/html": [
       "<div>\n",
       "<style scoped>\n",
       "    .dataframe tbody tr th:only-of-type {\n",
       "        vertical-align: middle;\n",
       "    }\n",
       "\n",
       "    .dataframe tbody tr th {\n",
       "        vertical-align: top;\n",
       "    }\n",
       "\n",
       "    .dataframe thead th {\n",
       "        text-align: right;\n",
       "    }\n",
       "</style>\n",
       "<table border=\"1\" class=\"dataframe\">\n",
       "  <thead>\n",
       "    <tr style=\"text-align: right;\">\n",
       "      <th></th>\n",
       "      <th></th>\n",
       "      <th>usertoken</th>\n",
       "    </tr>\n",
       "    <tr>\n",
       "      <th>campaign_name_email</th>\n",
       "      <th>variant_name_email</th>\n",
       "      <th></th>\n",
       "    </tr>\n",
       "  </thead>\n",
       "  <tbody>\n",
       "    <tr>\n",
       "      <th rowspan=\"2\" valign=\"top\">f - CASH - Enroll - Retroactive $10 - Feb 2021</th>\n",
       "      <th>Morpheus</th>\n",
       "      <td>0.008104</td>\n",
       "    </tr>\n",
       "    <tr>\n",
       "      <th>control_group</th>\n",
       "      <td>0.004325</td>\n",
       "    </tr>\n",
       "  </tbody>\n",
       "</table>\n",
       "</div>"
      ],
      "text/plain": [
       "                                                                   usertoken\n",
       "campaign_name_email                            variant_name_email           \n",
       "f - CASH - Enroll - Retroactive $10 - Feb 2021 Morpheus             0.008104\n",
       "                                               control_group        0.004325"
      ]
     },
     "execution_count": 79,
     "metadata": {},
     "output_type": "execute_result"
    }
   ],
   "source": [
    "fund_pt / users_pt.values"
   ]
  },
  {
   "cell_type": "code",
   "execution_count": 14,
   "id": "killing-penguin",
   "metadata": {},
   "outputs": [
    {
     "data": {
      "text/html": [
       "<div>\n",
       "<style scoped>\n",
       "    .dataframe tbody tr th:only-of-type {\n",
       "        vertical-align: middle;\n",
       "    }\n",
       "\n",
       "    .dataframe tbody tr th {\n",
       "        vertical-align: top;\n",
       "    }\n",
       "\n",
       "    .dataframe thead th {\n",
       "        text-align: right;\n",
       "    }\n",
       "</style>\n",
       "<table border=\"1\" class=\"dataframe\">\n",
       "  <thead>\n",
       "    <tr style=\"text-align: right;\">\n",
       "      <th></th>\n",
       "      <th></th>\n",
       "      <th>usertoken</th>\n",
       "    </tr>\n",
       "    <tr>\n",
       "      <th>campaign_name_email</th>\n",
       "      <th>variant_name_email</th>\n",
       "      <th></th>\n",
       "    </tr>\n",
       "  </thead>\n",
       "  <tbody>\n",
       "    <tr>\n",
       "      <th rowspan=\"2\" valign=\"top\">f - CASH - Enroll - Retroactive $10 - Feb 2021</th>\n",
       "      <th>Morpheus</th>\n",
       "      <td>99486</td>\n",
       "    </tr>\n",
       "    <tr>\n",
       "      <th>control_group</th>\n",
       "      <td>49348</td>\n",
       "    </tr>\n",
       "  </tbody>\n",
       "</table>\n",
       "</div>"
      ],
      "text/plain": [
       "                                                                   usertoken\n",
       "campaign_name_email                            variant_name_email           \n",
       "f - CASH - Enroll - Retroactive $10 - Feb 2021 Morpheus                99486\n",
       "                                               control_group           49348"
      ]
     },
     "execution_count": 14,
     "metadata": {},
     "output_type": "execute_result"
    }
   ],
   "source": [
    "retent_df = (experm_df2[experm_df2['activity_month_los_angeles'].notnull()])\n",
    "rentent_pt = pd.pivot_table(retent_df,  index=['campaign_name_email', 'variant_name_email'], \n",
    "                            values='usertoken', aggfunc='count')\n",
    "\n",
    "rentent_pt"
   ]
  },
  {
   "cell_type": "code",
   "execution_count": 15,
   "id": "covered-terrain",
   "metadata": {},
   "outputs": [
    {
     "data": {
      "text/html": [
       "<div>\n",
       "<style scoped>\n",
       "    .dataframe tbody tr th:only-of-type {\n",
       "        vertical-align: middle;\n",
       "    }\n",
       "\n",
       "    .dataframe tbody tr th {\n",
       "        vertical-align: top;\n",
       "    }\n",
       "\n",
       "    .dataframe thead th {\n",
       "        text-align: right;\n",
       "    }\n",
       "</style>\n",
       "<table border=\"1\" class=\"dataframe\">\n",
       "  <thead>\n",
       "    <tr style=\"text-align: right;\">\n",
       "      <th></th>\n",
       "      <th></th>\n",
       "      <th>usertoken</th>\n",
       "    </tr>\n",
       "    <tr>\n",
       "      <th>campaign_name_email</th>\n",
       "      <th>variant_name_email</th>\n",
       "      <th></th>\n",
       "    </tr>\n",
       "  </thead>\n",
       "  <tbody>\n",
       "    <tr>\n",
       "      <th rowspan=\"2\" valign=\"top\">f - CASH - Enroll - Retroactive $10 - Feb 2021</th>\n",
       "      <th>Morpheus</th>\n",
       "      <td>17</td>\n",
       "    </tr>\n",
       "    <tr>\n",
       "      <th>control_group</th>\n",
       "      <td>4</td>\n",
       "    </tr>\n",
       "  </tbody>\n",
       "</table>\n",
       "</div>"
      ],
      "text/plain": [
       "                                                                   usertoken\n",
       "campaign_name_email                            variant_name_email           \n",
       "f - CASH - Enroll - Retroactive $10 - Feb 2021 Morpheus                   17\n",
       "                                               control_group               4"
      ]
     },
     "execution_count": 15,
     "metadata": {},
     "output_type": "execute_result"
    }
   ],
   "source": [
    "clk_apply_df = (experm_df2[experm_df2['click_apply'] >= 1.0])\n",
    "clk_apply__pt = pd.pivot_table(clk_apply_df,  index=['campaign_name_email', 'variant_name_email'], \n",
    "                            values='usertoken', aggfunc='count')\n",
    "clk_apply__pt"
   ]
  },
  {
   "cell_type": "markdown",
   "id": "affected-addiction",
   "metadata": {},
   "source": [
    "# A|B Analysis"
   ]
  },
  {
   "cell_type": "markdown",
   "id": "quiet-russell",
   "metadata": {
    "heading_collapsed": "true"
   },
   "source": [
    "## Bayesian Function"
   ]
  },
  {
   "cell_type": "code",
   "execution_count": 147,
   "id": "resident-syracuse",
   "metadata": {},
   "outputs": [],
   "source": [
    "def calc_beta_mode(a, b):\n",
    "    '''this function calculate the mode (peak) of the Beta distribution'''\n",
    "    return (a-1)/(a+b-2)\n",
    "\n",
    "\n",
    "def beta_test(sum_control, sum_test, imps_ctrl, convs_ctrl, imps_test, convs_test):\n",
    "    # here we create the Beta functions for the two sets\n",
    "    a_C, b_C = convs_ctrl + sum_control, imps_ctrl - convs_ctrl + sum_control\n",
    "    beta_C = beta(a_C, b_C)\n",
    "\n",
    "    a_T, b_T = convs_test + sum_test, imps_test - convs_test + sum_test\n",
    "    beta_T = beta(a_T, b_T)\n",
    "\n",
    "    #calculating the lift\n",
    "    lift=(beta_T.mean()-beta_C.mean())/beta_C.mean()\n",
    "    lift_pts =(beta_T.mean()-beta_C.mean())\n",
    "    \n",
    "\n",
    "    #calculating the probability for Test to be better than Control\n",
    "    if lift < 0:\n",
    "        prob=calc_prob_between(beta_C, beta_T)\n",
    "    else:\n",
    "        prob=calc_prob_between(beta_T, beta_C)\n",
    "\n",
    "    return beta_T.mean(), beta_C.mean(), lift_pts, lift,  prob, beta_T, beta_C"
   ]
  },
  {
   "cell_type": "markdown",
   "id": "final-windsor",
   "metadata": {},
   "source": [
    "## A|B test Set Up"
   ]
  },
  {
   "cell_type": "code",
   "execution_count": 58,
   "id": "better-harmony",
   "metadata": {},
   "outputs": [],
   "source": [
    "CONTROL = 'control_group'\n",
    "VARIATIONS = ['Morpheus']\n",
    "CAMPAIGN = 'f - CASH - Enroll - Retroactive $10 - Feb 2021'\n",
    "\n",
    "kpi_names =  ['enrollments', 'funded']\n",
    "kpi_pt = [ enrolled_pt, fund_pt]\n",
    "\n",
    "# base_pt is the denominator of the rate, eg fund/enrollment, enrollment/users\n",
    "base_pt = [users_pt, users_pt]"
   ]
  },
  {
   "cell_type": "code",
   "execution_count": 124,
   "id": "legendary-thriller",
   "metadata": {},
   "outputs": [],
   "source": [
    "# Define factor to sum to Betas\n",
    "# alpha = conversions + factor\n",
    "# beta = impresions - conversions + factor\n",
    "\n",
    "# By default these factors can be 1\n",
    "dict_of_fac = {v: {m:1 for m in kpi_names} for v in VARIATIONS + [CONTROL]}\n",
    "\n",
    "# it can be set to a factor of the same order of magnitude that the observed data\n",
    "# TRY BOTH and see if its not far from observed data !!!\n",
    "\n",
    "use_default_one = True\n",
    "\n",
    "# proportion of observed data to use as prior; \n",
    "# eems that low values produce results closer to observed rates\n",
    "dprior = 0.1\n",
    "\n",
    "if not use_default_one:\n",
    "    for vari in VARIATIONS + [CONTROL]:\n",
    "        for k, m in zip(kpi_pt,kpi_names):\n",
    "                dict_of_fac[vari][m] = int(dprior * k.loc[CAMPAIGN, vari].values[0])\n"
   ]
  },
  {
   "cell_type": "code",
   "execution_count": 125,
   "id": "opening-intersection",
   "metadata": {},
   "outputs": [
    {
     "data": {
      "text/plain": [
       "{'Morpheus': {'enrollments': 1, 'funded': 1},\n",
       " 'control_group': {'enrollments': 1, 'funded': 1}}"
      ]
     },
     "execution_count": 125,
     "metadata": {},
     "output_type": "execute_result"
    }
   ],
   "source": [
    "dict_of_fac"
   ]
  },
  {
   "cell_type": "code",
   "execution_count": 148,
   "id": "official-glasgow",
   "metadata": {},
   "outputs": [],
   "source": [
    "list_of_stats = []\n",
    "cols = ['campaign','variation', 'metric', 'mean_Test','mean_Control', 'lift_pts' ,\n",
    "        'lift_prct', 'probability']\n",
    "\n",
    "\n",
    "for variation in VARIATIONS:\n",
    "    for metric, pt, b_pt in zip(kpi_names, kpi_pt, base_pt):\n",
    "        \n",
    "        imps_ctrl, convs_ctrl = b_pt.loc[CAMPAIGN, CONTROL],   pt.loc[CAMPAIGN, CONTROL]\n",
    "        imps_test, convs_test = b_pt.loc[CAMPAIGN, variation],   pt.loc[CAMPAIGN, variation]\n",
    "\n",
    "        # expected metric\n",
    "        sum_control = dict_of_fac[CONTROL][metric]\n",
    "        sum_var =  dict_of_fac[variation][metric]\n",
    "        \n",
    "\n",
    "        T_avg, C_avg, lift_pts, lift, prob, beta_T, beta_C = beta_test(sum_control,\n",
    "                                                       sum_var, imps_ctrl[0], convs_ctrl[0],\n",
    "                                                       imps_test[0], convs_test[0])\n",
    "\n",
    "        list_of_stats.append([CAMPAIGN, variation, metric, T_avg, C_avg, lift_pts, lift, prob])\n",
    "            \n",
    "        stats_df = pd.DataFrame(list_of_stats, columns=cols)"
   ]
  },
  {
   "cell_type": "code",
   "execution_count": 149,
   "id": "cubic-annotation",
   "metadata": {},
   "outputs": [
    {
     "data": {
      "text/html": [
       "<div>\n",
       "<style scoped>\n",
       "    .dataframe tbody tr th:only-of-type {\n",
       "        vertical-align: middle;\n",
       "    }\n",
       "\n",
       "    .dataframe tbody tr th {\n",
       "        vertical-align: top;\n",
       "    }\n",
       "\n",
       "    .dataframe thead th {\n",
       "        text-align: right;\n",
       "    }\n",
       "</style>\n",
       "<table border=\"1\" class=\"dataframe\">\n",
       "  <thead>\n",
       "    <tr style=\"text-align: right;\">\n",
       "      <th></th>\n",
       "      <th>campaign</th>\n",
       "      <th>variation</th>\n",
       "      <th>metric</th>\n",
       "      <th>mean_Test</th>\n",
       "      <th>mean_Control</th>\n",
       "      <th>lift_pts</th>\n",
       "      <th>lift_prct</th>\n",
       "      <th>probability</th>\n",
       "    </tr>\n",
       "  </thead>\n",
       "  <tbody>\n",
       "    <tr>\n",
       "      <th>0</th>\n",
       "      <td>f - CASH - Enroll - Retroactive $10 - Feb 2021</td>\n",
       "      <td>Morpheus</td>\n",
       "      <td>enrollments</td>\n",
       "      <td>0.041556</td>\n",
       "      <td>0.032513</td>\n",
       "      <td>0.009042</td>\n",
       "      <td>0.278108</td>\n",
       "      <td>1.0</td>\n",
       "    </tr>\n",
       "    <tr>\n",
       "      <th>1</th>\n",
       "      <td>f - CASH - Enroll - Retroactive $10 - Feb 2021</td>\n",
       "      <td>Morpheus</td>\n",
       "      <td>funded</td>\n",
       "      <td>0.008112</td>\n",
       "      <td>0.004342</td>\n",
       "      <td>0.003770</td>\n",
       "      <td>0.868315</td>\n",
       "      <td>1.0</td>\n",
       "    </tr>\n",
       "  </tbody>\n",
       "</table>\n",
       "</div>"
      ],
      "text/plain": [
       "                                         campaign variation       metric  \\\n",
       "0  f - CASH - Enroll - Retroactive $10 - Feb 2021  Morpheus  enrollments   \n",
       "1  f - CASH - Enroll - Retroactive $10 - Feb 2021  Morpheus       funded   \n",
       "\n",
       "   mean_Test  mean_Control  lift_pts  lift_prct  probability  \n",
       "0   0.041556      0.032513  0.009042   0.278108          1.0  \n",
       "1   0.008112      0.004342  0.003770   0.868315          1.0  "
      ]
     },
     "execution_count": 149,
     "metadata": {},
     "output_type": "execute_result"
    }
   ],
   "source": [
    "stats_df"
   ]
  },
  {
   "cell_type": "code",
   "execution_count": 166,
   "id": "excess-status",
   "metadata": {},
   "outputs": [
    {
     "data": {
      "text/plain": [
       "5.472932150836546e-06"
      ]
     },
     "execution_count": 166,
     "metadata": {},
     "output_type": "execute_result"
    }
   ],
   "source": [
    "probab_test_under_thr = beta_T.cdf(0.007)\n",
    "probab_test_under_thr"
   ]
  },
  {
   "cell_type": "code",
   "execution_count": 128,
   "id": "sought-hands",
   "metadata": {},
   "outputs": [
    {
     "data": {
      "image/png": "[encoded data removed]",
      "text/plain": [
       "<Figure size 432x288 with 1 Axes>"
      ]
     },
     "metadata": {
      "needs_background": "light"
     },
     "output_type": "display_data"
    }
   ],
   "source": [
    "import matplotlib.pyplot as plt\n",
    "\n",
    "\n",
    "def plot(betas, names, linf=0, lsup=0.01):\n",
    "    '''this function plots the Beta distribution'''\n",
    "    x=np.linspace(linf,lsup, 100)\n",
    "    for f, name in zip(betas,names) :\n",
    "        y=f.pdf(x) #this for calculate the value for the PDF at the specified x-points\n",
    "        y_mode=calc_beta_mode(f.args[0], f.args[1])\n",
    "        y_var=f.var() # the variance of the Beta distribution\n",
    "        plt.plot(x,y, label=f\"{name} sample, conversion rate: {y_mode:0.1E} $\\pm$ {y_var:0.1E}\")\n",
    "        plt.yticks([])\n",
    "    plt.legend()\n",
    "    plt.show()\n",
    "\n",
    "    \n",
    "plot([beta_C, beta_T], names=[\"Control\", \"Test\"])"
   ]
  },
  {
   "cell_type": "code",
   "execution_count": 100,
   "id": "hindu-gilbert",
   "metadata": {},
   "outputs": [
    {
     "data": {
      "text/plain": [
       "'funded'"
      ]
     },
     "execution_count": 100,
     "metadata": {},
     "output_type": "execute_result"
    }
   ],
   "source": [
    "metric"
   ]
  },
  {
   "cell_type": "markdown",
   "id": "involved-armor",
   "metadata": {},
   "source": [
    "## Export to Excel"
   ]
  },
  {
   "cell_type": "code",
   "execution_count": 167,
   "id": "enclosed-herald",
   "metadata": {},
   "outputs": [],
   "source": [
    "wb = xw.Book(r'C:\\Users\\mvinasco\\Documents\\Ad Hocs\\Axiom\\Acxiom_Analyis.xlsx')"
   ]
  },
  {
   "cell_type": "code",
   "execution_count": null,
   "id": "homeless-customer",
   "metadata": {},
   "outputs": [],
   "source": [
    "sht = wb.sheets['experiment']\n",
    "writes_df_excel(sht, df=stats_df, rangename='experiment')"
   ]
  },
  {
   "cell_type": "code",
   "execution_count": null,
   "id": "united-tablet",
   "metadata": {},
   "outputs": [],
   "source": []
  }
 ],
 "metadata": {
  "kernelspec": {
   "display_name": "Python 3 (ipykernel)",
   "language": "python",
   "name": "python3"
  },
  "language_info": {
   "codemirror_mode": {
    "name": "ipython",
    "version": 3
   },
   "file_extension": ".py",
   "mimetype": "text/x-python",
   "name": "python",
   "nbconvert_exporter": "python",
   "pygments_lexer": "ipython3",
   "version": "3.8.10"
  }
 },
 "nbformat": 4,
 "nbformat_minor": 5
}
