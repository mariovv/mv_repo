{
 "cells": [
  {
   "cell_type": "markdown",
   "id": "3fb0ef8d-18a9-4c09-89df-19f852e353a6",
   "metadata": {},
   "source": [
    "Flatten Pivot Tabes with Multi Levels"
   ]
  },
  {
   "cell_type": "code",
   "execution_count": 2,
   "id": "829fbe4f-f743-417b-8262-9c441f88173d",
   "metadata": {},
   "outputs": [
    {
     "ename": "NameError",
     "evalue": "name 'pd' is not defined",
     "output_type": "error",
     "traceback": [
      "\u001b[1;31m---------------------------------------------------------------------------\u001b[0m",
      "\u001b[1;31mNameError\u001b[0m                                 Traceback (most recent call last)",
      "\u001b[1;32m~\\AppData\\Local\\Temp/ipykernel_17008/963145335.py\u001b[0m in \u001b[0;36m<module>\u001b[1;34m\u001b[0m\n\u001b[1;32m----> 1\u001b[1;33m signup_src_pt2 = pd.pivot_table(signup_src_df2, index=['acct_registration_day', 'acct_registration_15ds', 'acct_registration_hour' ,\n\u001b[0m\u001b[0;32m      2\u001b[0m                                 'acct_registration_15m', 'acct_registration_dayofweek', 'channel_type'],\n\u001b[0;32m      3\u001b[0m                                 \u001b[0mcolumns\u001b[0m\u001b[1;33m=\u001b[0m\u001b[1;33m[\u001b[0m \u001b[1;34m'tv_airing'\u001b[0m \u001b[1;33m]\u001b[0m\u001b[1;33m,\u001b[0m\u001b[1;33m\u001b[0m\u001b[1;33m\u001b[0m\u001b[0m\n\u001b[0;32m      4\u001b[0m                \u001b[0mvalues\u001b[0m\u001b[1;33m=\u001b[0m\u001b[1;33m[\u001b[0m\u001b[1;34m'new_users'\u001b[0m\u001b[1;33m,\u001b[0m \u001b[1;34m'click_apply_7day'\u001b[0m\u001b[1;33m]\u001b[0m\u001b[1;33m,\u001b[0m\u001b[1;33m\u001b[0m\u001b[1;33m\u001b[0m\u001b[0m\n\u001b[0;32m      5\u001b[0m                aggfunc='sum')\n",
      "\u001b[1;31mNameError\u001b[0m: name 'pd' is not defined"
     ]
    }
   ],
   "source": [
    "signup_src_pt2 = pd.pivot_table(signup_src_df2, index=['acct_registration_day', 'acct_registration_15ds', 'acct_registration_hour' ,\n",
    "                                'acct_registration_15m', 'acct_registration_dayofweek', 'channel_type'],\n",
    "                                columns=[ 'tv_airing' ],     \n",
    "               values=['new_users', 'click_apply_7day'],\n",
    "               aggfunc='sum')\n",
    "\n",
    "# Flattens pivot table\n",
    "df = signup_src_pt2\n",
    "level_one = df.columns.get_level_values(0).astype(str)\n",
    "level_two = df.columns.get_level_values(1).astype(str)\n",
    "df.columns = level_one + level_two"
   ]
  },
  {
   "cell_type": "code",
   "execution_count": null,
   "id": "b28a910a-4f5d-4a74-9fd5-96526a0bd4cb",
   "metadata": {},
   "outputs": [],
   "source": []
  }
 ],
 "metadata": {
  "kernelspec": {
   "display_name": "Python 3",
   "language": "python",
   "name": "python3"
  },
  "language_info": {
   "codemirror_mode": {
    "name": "ipython",
    "version": 3
   },
   "file_extension": ".py",
   "mimetype": "text/x-python",
   "name": "python",
   "nbconvert_exporter": "python",
   "pygments_lexer": "ipython3",
   "version": "3.6.15"
  }
 },
 "nbformat": 4,
 "nbformat_minor": 5
}
